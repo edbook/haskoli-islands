{
 "cells": [
  {
   "cell_type": "code",
   "execution_count": null,
   "metadata": {},
   "outputs": [],
   "source": [
    "import math as m, polhnit as p\n",
    "\n",
    "x,y = p.pol2rec(1, m.pi/6)\n",
    "print(f'xy-hnit: ({x:.4}, {y:.4})')\n",
    "\n",
    "r,theta = p.rec2pol(1,1)\n",
    "g = m.degrees(theta)\n",
    "print(f'Pólhnit: ({r:.4f}, {g:.2f}°)')"
   ]
  }
 ],
 "metadata": {
  "kernelspec": {
   "display_name": "Python 3",
   "language": "python",
   "name": "python3"
  },
  "language_info": {
   "codemirror_mode": {
    "name": "ipython",
    "version": 3
   },
   "file_extension": ".py",
   "mimetype": "text/x-python",
   "name": "python",
   "nbconvert_exporter": "python",
   "pygments_lexer": "ipython3",
   "version": "3.7.4"
  }
 },
 "nbformat": 4,
 "nbformat_minor": 2
}
