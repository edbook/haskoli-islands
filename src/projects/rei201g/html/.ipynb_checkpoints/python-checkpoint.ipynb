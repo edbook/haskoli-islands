{
 "cells": [
  {
   "cell_type": "markdown",
   "metadata": {},
   "source": [
    "# Kynning á Python\n",
    "\n",
    "\n",
    "## Helstu atriði\n",
    "\n",
    "- Breytur\n",
    "- Tög/týpur\n",
    "- Stýrisetningar\n",
    "- Strengir\n",
    "- Föll\n",
    "- Listar\n",
    "\n",
    "Hlekkur til að skoða\n",
    "https://docs.python.org/3/"
   ]
  },
  {
   "cell_type": "markdown",
   "metadata": {},
   "source": [
    "## Útprentun í Jupyter\n",
    "Jupyter skrifar sjálfkrafa niðurstöðu segðar sem er sett aftast í reit, og svo má nota *print*-fallið til að skrifa út niðurstöður framar í reitnum."
   ]
  },
  {
   "cell_type": "code",
   "execution_count": null,
   "metadata": {},
   "outputs": [],
   "source": [
    "print(2+2)\n",
    "x = 2 + 3\n",
    "x + 1"
   ]
  },
  {
   "cell_type": "markdown",
   "metadata": {},
   "source": [
    "## Breytur\n",
    "\n",
    "Breytur hafa ekki tög (type) eins og í Java, heldur hafa gildi tög. Þurfum ekki að skilgreina tagið á breytu.\n",
    "\n",
    "Grunntögin eru (m.a.)\n",
    "- Boolean: True/False\n",
    "- String: `'strengur'`, `'42'`, `\"strengur í tvöföldum gæsalöppum\"`\n",
    "- Integer: `42`\n",
    "- Float: `3.14159`, `1e100`\n",
    "\n",
    "Til að finna tag á gildi má nota type:"
   ]
  },
  {
   "cell_type": "code",
   "execution_count": null,
   "metadata": {},
   "outputs": [],
   "source": [
    "type(\"strengur\"),type(42),type(3.4),type(True),type([1,2])\n",
    "s = \"ss\"\n",
    "k = 3.4\n",
    "type(s),type(k)"
   ]
  },
  {
   "cell_type": "markdown",
   "metadata": {},
   "source": [
    "Breytur vísa á gildi, tagið á breytunni er þá sama og tagið á gildinu"
   ]
  },
  {
   "cell_type": "code",
   "execution_count": null,
   "metadata": {},
   "outputs": [],
   "source": [
    "strengur = 'strengur'\n",
    "n = 10\n",
    "x = 0.1\n",
    "\n",
    "# comment byrja á myllumerki\n",
    "\n",
    "print(n)\n",
    "print(strengur)   # byrjar í nýrri línu\n",
    "print(n,strengur) # setur bil á milli\n",
    "print(x)\n",
    "print(f\"{x:.3f}\") # prentar með 3 aukastöfum\n",
    "strengur = n\n",
    "print(strengur)\n",
    "type(strengur)"
   ]
  },
  {
   "cell_type": "markdown",
   "metadata": {},
   "source": [
    "Heiltölur hegða sér eins og í Java, nema að þær hafa engin stærðartakmörk. Venjulegar reiknireglur gilda um `+ - * /`, `**` er veldi `%` er afgangur úr deilingu og `//` er heiltöludeiling."
   ]
  },
  {
   "cell_type": "code",
   "execution_count": null,
   "metadata": {},
   "outputs": [],
   "source": [
    "a = 5\n",
    "b = 3\n",
    "print(a/b)\n",
    "print(a//b)\n",
    "print(a%b)\n",
    "print(a**b)\n",
    "print(float(a)**b)\n",
    "print(2**1024)"
   ]
  },
  {
   "cell_type": "markdown",
   "metadata": {},
   "source": [
    "## Rökgildi (*boolean*)\n",
    "\n",
    "Notum `==`, `<=`, `>=`, `<`, `>`, `!=` til að bera saman gildi.\n",
    "\n",
    "Rökvirkjarnir eru `and`, `or` og `not` (en ekki eins og í Java, `&&`, `||` og `!`)"
   ]
  },
  {
   "cell_type": "code",
   "execution_count": null,
   "metadata": {},
   "outputs": [],
   "source": [
    "x = 3\n",
    "print(0 <= x and x <= 10)\n",
    "print(0 <= x <= 10)\n",
    "print(True and True)\n",
    "print(True and not True)"
   ]
  },
  {
   "cell_type": "markdown",
   "metadata": {},
   "source": [
    "## Ef–annars stýring\n",
    "\n",
    "**If-else** stýrisetningin tekur inn rökgildi og framkvæmir blokk skipana ef gildi hennar er satt og aðra blokk ef það er ósatt. Python notar ekki slaufusviga til að afmarka blokkina heldur inndreginn kóða. Oft eru notuð 4 bil og það gerir Jupyter sjálfkrafa.\n",
    "Það má sleppa **else**-hluta, og það má setja skipun á sömu línu og **if**:"
   ]
  },
  {
   "cell_type": "code",
   "execution_count": null,
   "metadata": {},
   "outputs": [],
   "source": [
    "x = 10\n",
    "if x == 0:\n",
    "    print(\"x er núll\")\n",
    "else:\n",
    "    print(\"x er ekki núll\")\n",
    "print(\"Gildið á x er\",x) # ekki hluti af if\n",
    "if x == 10: print(\"OK!\")"
   ]
  },
  {
   "cell_type": "markdown",
   "metadata": {},
   "source": [
    "**If-else** notar `elif` fyrir `else if`:"
   ]
  },
  {
   "cell_type": "code",
   "execution_count": null,
   "metadata": {},
   "outputs": [],
   "source": [
    "x = 4\n",
    "if x < 4:\n",
    "    print(\"aha eitthvað skrýtið\")\n",
    "if 0 <= x < 12:\n",
    "    print(\"Fyrir hádegi\")\n",
    "elif 12 < x <= 24:\n",
    "    print(\"Eftir hádegi\")\n",
    "elif x == 12:\n",
    "    print(\"Hádegi\")\n",
    "else:\n",
    "    print(\"Ekki tími\")        "
   ]
  },
  {
   "cell_type": "markdown",
   "metadata": {},
   "source": [
    "## While\n",
    "\n",
    "Endurtekur skipun meðan skilyrði er satt, skilyrðið er athugað í byrjun eins og í Java"
   ]
  },
  {
   "cell_type": "code",
   "execution_count": null,
   "metadata": {
    "scrolled": true
   },
   "outputs": [],
   "source": [
    "x = 0\n",
    "while x <= 10:\n",
    "    print(x)\n",
    "    x += 1"
   ]
  },
  {
   "cell_type": "markdown",
   "metadata": {},
   "source": [
    "## For lykkjur\n",
    "\n",
    "Eru öðruvísi en í Java: Farið í gegn um mismunandi gildi á stýribreytu með því að kalla á sérstakt fall, `range`-fallið."
   ]
  },
  {
   "cell_type": "code",
   "execution_count": null,
   "metadata": {},
   "outputs": [],
   "source": [
    "for x in range(5): # [0,5) 5 er ekki með, x verður mest 4\n",
    "    print(x)"
   ]
  },
  {
   "cell_type": "code",
   "execution_count": null,
   "metadata": {},
   "outputs": [],
   "source": [
    "for x in range(5,0,-1): # x byrjar í 5 og fer niður í 1\n",
    "    print(x)"
   ]
  },
  {
   "cell_type": "code",
   "execution_count": null,
   "metadata": {},
   "outputs": [],
   "source": [
    "for x in range(3,11,2): # x byrjar í 3, hættir áður en það\n",
    "    print(x)            # verður 11, hækkar um 2 í hverju skrefi"
   ]
  },
  {
   "cell_type": "markdown",
   "metadata": {},
   "source": [
    "`continue` og `break` hegða sér eins og í Java.\n",
    "\n",
    "Ef við viljum gera ekkert má ekki vera tóm lína heldur skrifum við `pass`. Gegnir sama hlutverki og `{}` í Java."
   ]
  },
  {
   "cell_type": "markdown",
   "metadata": {},
   "source": [
    "## Strengir\n",
    "\n",
    "Við getum skeytt saman strengjum með `+`."
   ]
  },
  {
   "cell_type": "code",
   "execution_count": null,
   "metadata": {},
   "outputs": [],
   "source": [
    "a = 'a'\n",
    "b = 'b'\n",
    "x = 1\n",
    "print(a + b)\n",
    "print(a*10 + \" \" + b*5) # margföldun er eins og margir plúsar\n",
    "print(\"x = \" + str(x))  # str breytir heiltölu í streng\n",
    "print(\"x = \" + x)       # heiltölum er ekki breytt sjálfkrafa í streng\n"
   ]
  },
  {
   "cell_type": "code",
   "execution_count": null,
   "metadata": {},
   "outputs": [],
   "source": [
    "from math import pi\n",
    "print(\"pí er \" + str(pi))     # notar sjálfkrafa 15 aukastafi\n",
    "print(\"pí er \" + f\"{pi:.4f}\") # f-strengur notaður til að skrifa 4 aukastafi\n",
    "print(f\"pí er {pi:.4f}\")      # enn einfaldara með svona f-string"
   ]
  },
  {
   "cell_type": "markdown",
   "metadata": {},
   "source": [
    "Hlutstrengir: Við getum vísað í hluta af streng með\n",
    "\n",
    "- einni tölu, byrjað að telja í 0, t.d. `s[0]`\n",
    "- bili, `s[0:5]` \n",
    "- frá byrjun: s[:5], eða út í enda: s[1:]\n",
    "- og talið aftur á bak s[-1]"
   ]
  },
  {
   "cell_type": "code",
   "execution_count": null,
   "metadata": {},
   "outputs": [],
   "source": [
    "s = \"abcdefg\"\n",
    "print(len(s)) #lengdin á s\n",
    "print(s[0])\n",
    "print(s[2:4])\n",
    "print(s[:5])\n",
    "print(s[1:])\n",
    "print(s[-1])\n",
    "print(s[:-1])\n",
    "print(s[::2])\n",
    "print(s[::-1])"
   ]
  },
  {
   "cell_type": "markdown",
   "metadata": {},
   "source": [
    "## Föll\n",
    "\n",
    "Notum `def` til að skilgreina fall, viðföngin hafa engin tög"
   ]
  },
  {
   "cell_type": "code",
   "execution_count": null,
   "metadata": {},
   "outputs": [],
   "source": [
    "def f(x):\n",
    "    fx = 2*x\n",
    "    return f\n",
    "\n",
    "print(f(2))\n",
    "print(f('Halló'))"
   ]
  },
  {
   "cell_type": "markdown",
   "metadata": {},
   "source": [
    "Föll sem skila engu gildi skila gildinu `None`, fallið er þá eins og `void` í Java og `None` gegnir sama hlutverki og `null`"
   ]
  },
  {
   "cell_type": "code",
   "execution_count": null,
   "metadata": {},
   "outputs": [],
   "source": [
    "def h(x):\n",
    "    return print(x,x)\n",
    "\n",
    "y = h(1)\n",
    "print(y)"
   ]
  },
  {
   "cell_type": "markdown",
   "metadata": {},
   "source": [
    "Föll af föllum. Föll eru hlutir og geta verið viðföng inn í önnur föll."
   ]
  },
  {
   "cell_type": "code",
   "execution_count": null,
   "metadata": {},
   "outputs": [],
   "source": [
    "import math\n",
    "def apply_twice(f,x):\n",
    "    return f(f(x))\n",
    "\n",
    "print(apply_twice(math.sqrt,4))\n",
    "apply_twice(print,'Halló')\n",
    "\n",
    "y = apply_twice\n",
    "\n",
    "print(y(math.sqrt,2))"
   ]
  },
  {
   "cell_type": "markdown",
   "metadata": {},
   "source": [
    "## Gildissvið\n",
    "Gildissvið (e. scope) breytu er innan fallsins sem hún er skilgreind í og skyggir á ytra svið (eins og í Java).\n"
   ]
  },
  {
   "cell_type": "code",
   "execution_count": null,
   "metadata": {},
   "outputs": [],
   "source": [
    "x = 1\n",
    "\n",
    "def modify(x):\n",
    "    x = x+1\n",
    "    print(x)\n",
    "\n",
    "modify(x)\n",
    "print(x)"
   ]
  },
  {
   "cell_type": "markdown",
   "metadata": {},
   "source": [
    "Global breytur (best að nota sparlega)."
   ]
  },
  {
   "cell_type": "markdown",
   "metadata": {},
   "source": [
    "## Föll sem skilagildi\n",
    "Við getum skilgreint ný föll inn í föllum og jafnvel skilað þeim. Eins geta nýju föllin vísað í breytur sem eru til inni í ytra fallinu"
   ]
  },
  {
   "cell_type": "code",
   "execution_count": null,
   "metadata": {},
   "outputs": [],
   "source": [
    "def adder(x):\n",
    "    def f(y):\n",
    "        return x+y\n",
    "    return f\n",
    "\n",
    "h2 = adder(2)\n",
    "h4 = adder(4)\n",
    "print(h2(3), h4(3))\n",
    "print(h2)\n",
    "apply_twice(adder(3), 2)"
   ]
  },
  {
   "cell_type": "markdown",
   "metadata": {},
   "source": [
    "## Lambda-föll\n",
    "Föll sem eru á forminu \n",
    "```\n",
    "def fall(x):\n",
    "    return yrding_med_x\n",
    "```\n",
    "er hægt að skilgreina beint með lambda föllum.\n",
    "\n",
    "```\n",
    "fall = lambda x: yrding_med_x\n",
    "```\n",
    "\n",
    "Í Python má fallið bara vera ein yrðing, það er ekki hægt að nota `if,for,while` o.þ.h."
   ]
  },
  {
   "cell_type": "code",
   "execution_count": null,
   "metadata": {},
   "outputs": [],
   "source": [
    "f = lambda x: x*x\n",
    "print(apply_twice(f, 2))\n",
    "print(apply_twice(lambda t: t+2, 0))"
   ]
  },
  {
   "cell_type": "code",
   "execution_count": null,
   "metadata": {},
   "outputs": [],
   "source": [
    "adder2 = lambda x: lambda y: x + y\n",
    "\n",
    "print(adder2(4))\n",
    "print(adder2(4)(4))"
   ]
  },
  {
   "cell_type": "markdown",
   "metadata": {},
   "source": [
    "## Listar\n",
    "Listar í Python eru eins og fylki (eða Arraylist/Vector) í Java.\n",
    "\n",
    "- Stækka og minnka sig sjálfir eftir þörfum\n",
    "- Gildin þurfa ekki að vera af sama tagi\n",
    "- Getum breytt gildum, bætt við, tekið út\n",
    "- Tilvísanir eins og fyrir strengi"
   ]
  },
  {
   "cell_type": "code",
   "execution_count": null,
   "metadata": {},
   "outputs": [],
   "source": [
    "l = [1,2,1,None,'String']\n",
    "l.count(1)\n",
    "l.index(2)\n",
    "l.index(None)\n",
    "all([True,True,2>0])\n",
    "l+l"
   ]
  },
  {
   "cell_type": "code",
   "execution_count": null,
   "metadata": {},
   "outputs": [],
   "source": []
  },
  {
   "cell_type": "markdown",
   "metadata": {},
   "source": [
    "Tómi listinn er táknaður með `[]`\n",
    "\n",
    "## Skeyting\n",
    "Við getum skeytt saman listum með `+` og líka margfaldað"
   ]
  },
  {
   "cell_type": "code",
   "execution_count": null,
   "metadata": {
    "scrolled": false
   },
   "outputs": [],
   "source": [
    "x = [1,2]\n",
    "y = [2,4]\n",
    "z = x + y\n",
    "print(z)\n",
    "print(x*4)"
   ]
  },
  {
   "cell_type": "markdown",
   "metadata": {},
   "source": [
    "Listar geta líka innihaldið lista"
   ]
  },
  {
   "cell_type": "code",
   "execution_count": null,
   "metadata": {},
   "outputs": [],
   "source": [
    "x = [1,2]\n",
    "y = [x,x]\n",
    "print(y)"
   ]
  },
  {
   "cell_type": "code",
   "execution_count": null,
   "metadata": {},
   "outputs": [],
   "source": [
    "x[0] = 4\n",
    "print(y)"
   ]
  },
  {
   "cell_type": "markdown",
   "metadata": {},
   "source": [
    "Úbbs, hvað gerðist? y listinn var með tvær tilvísanir á sama hlut, þegar x breyttist þá vísar y ennþá á sama hlut. Við getum notað id fallið til að sjá tilvísunina"
   ]
  },
  {
   "cell_type": "code",
   "execution_count": null,
   "metadata": {},
   "outputs": [],
   "source": [
    "print(id(x), id(y[0]), id(y[1]))"
   ]
  },
  {
   "cell_type": "markdown",
   "metadata": {},
   "source": [
    "Allt sama breytan. Til að fá gildin í x en ekki tilvísunina þurfum við að taka copy af x."
   ]
  },
  {
   "cell_type": "code",
   "execution_count": null,
   "metadata": {},
   "outputs": [],
   "source": [
    "y = [list(x), list(x)] # köllum á listasmiðinn, sem býr til nýjan lista\n",
    "# y = [x.copy(), x.copy()] # mundi gera það sama\n",
    "print(id(x), id(y[0]), id(y[1]))"
   ]
  },
  {
   "cell_type": "code",
   "execution_count": null,
   "metadata": {},
   "outputs": [],
   "source": [
    "y = [x[:],x[:]] # sama hugmynd, knappari ritháttur\n",
    "print(id(x),id(y[0]),id(y[1]))"
   ]
  },
  {
   "cell_type": "markdown",
   "metadata": {},
   "source": [
    "## Gagnleg föll\n",
    "- len skilar lengd á listanum, eins og fyrir strengi\n",
    "- append bætir einu staki við listann\n",
    "- enumerate er gott fyrir ítrun\n",
    "- range(n) skilar lista í Python 2 en sérstökum hlut í Python 3.5"
   ]
  },
  {
   "cell_type": "code",
   "execution_count": 7,
   "metadata": {},
   "outputs": [
    {
     "ename": "IndexError",
     "evalue": "list index out of range",
     "output_type": "error",
     "traceback": [
      "\u001b[0;31m---------------------------------------------------------------------------\u001b[0m",
      "\u001b[0;31mIndexError\u001b[0m                                Traceback (most recent call last)",
      "\u001b[0;32m<ipython-input-7-1492ba4f1c79>\u001b[0m in \u001b[0;36m<module>\u001b[0;34m\u001b[0m\n\u001b[1;32m      4\u001b[0m \u001b[0mc\u001b[0m \u001b[0;34m=\u001b[0m \u001b[0ma\u001b[0m\u001b[0;34m\u001b[0m\u001b[0;34m\u001b[0m\u001b[0m\n\u001b[1;32m      5\u001b[0m \u001b[0ma\u001b[0m\u001b[0;34m[\u001b[0m\u001b[0;36m1\u001b[0m\u001b[0;34m]\u001b[0m \u001b[0;34m=\u001b[0m \u001b[0;34m'def'\u001b[0m\u001b[0;34m\u001b[0m\u001b[0;34m\u001b[0m\u001b[0m\n\u001b[0;32m----> 6\u001b[0;31m \u001b[0mprint\u001b[0m\u001b[0;34m(\u001b[0m\u001b[0ma\u001b[0m\u001b[0;34m[\u001b[0m\u001b[0;36m1\u001b[0m\u001b[0;34m]\u001b[0m\u001b[0;34m,\u001b[0m \u001b[0ma\u001b[0m\u001b[0;34m[\u001b[0m\u001b[0;36m3\u001b[0m\u001b[0;34m]\u001b[0m\u001b[0;34m,\u001b[0m \u001b[0mb\u001b[0m\u001b[0;34m,\u001b[0m \u001b[0mc\u001b[0m\u001b[0;34m[\u001b[0m\u001b[0;36m1\u001b[0m\u001b[0;34m]\u001b[0m\u001b[0;34m,\u001b[0m \u001b[0msep\u001b[0m\u001b[0;34m=\u001b[0m\u001b[0;34m'; '\u001b[0m\u001b[0;34m)\u001b[0m\u001b[0;34m\u001b[0m\u001b[0;34m\u001b[0m\u001b[0m\n\u001b[0m",
      "\u001b[0;31mIndexError\u001b[0m: list index out of range"
     ]
    }
   ],
   "source": [
    "a = [2, 'abc', 4.33, [1,2]]\n",
    "b = a[1:3]\n",
    "c = a\n",
    "a[1] = 'def'\n",
    "print(a[1], a[3], b, c[1], sep='; ')\n"
   ]
  },
  {
   "cell_type": "code",
   "execution_count": null,
   "metadata": {},
   "outputs": [],
   "source": [
    "x = [1,2,3]\n",
    "print(len(x))\n",
    "x.append(5)\n",
    "print(len(x))\n",
    "\n",
    "for a in x:\n",
    "    print(\"a =\", a)\n",
    "    \n",
    "for i,a in enumerate(x): # enumerate ítrar yfir par af sæti og gildi\n",
    "    print(f\"x[{i}] = {a}\")\n",
    "    \n",
    "#jafngilt\n",
    "for i in range(len(x)):\n",
    "    a = x[i]\n",
    "    print(f\"x[{i}] = {a}\")"
   ]
  },
  {
   "cell_type": "code",
   "execution_count": 3,
   "metadata": {},
   "outputs": [
    {
     "name": "stdout",
     "output_type": "stream",
     "text": [
      "<class 'range'>\n",
      "range(0, 20)\n",
      "<class 'list'>\n",
      "[0, 1, 2, 3, 4, 5, 6, 7, 8, 9, 10, 11, 12, 13, 14, 15, 16, 17, 18, 19]\n"
     ]
    }
   ],
   "source": [
    "n = 20\n",
    "x = range(n)\n",
    "print(type(x))\n",
    "print(x)\n",
    "y = list(x) # pínum range hlutinn yfir í lista\n",
    "print(type(y))\n",
    "print(y)\n",
    "z = [0, 1, 2, 3, 4, 5, 6, 7, 8, 9]\n"
   ]
  },
  {
   "cell_type": "code",
   "execution_count": null,
   "metadata": {},
   "outputs": [],
   "source": [
    "y  = [100] + list(range(10)) + [100] # smá hint\n",
    "print(y)"
   ]
  },
  {
   "cell_type": "code",
   "execution_count": null,
   "metadata": {},
   "outputs": [],
   "source": []
  }
 ],
 "metadata": {
  "kernelspec": {
   "display_name": "Python 3",
   "language": "python",
   "name": "python3"
  },
  "language_info": {
   "codemirror_mode": {
    "name": "ipython",
    "version": 3
   },
   "file_extension": ".py",
   "mimetype": "text/x-python",
   "name": "python",
   "nbconvert_exporter": "python",
   "pygments_lexer": "ipython3",
   "version": "3.7.4"
  }
 },
 "nbformat": 4,
 "nbformat_minor": 1
}
