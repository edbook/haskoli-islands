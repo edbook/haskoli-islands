{
 "cells": [
  {
   "cell_type": "markdown",
   "metadata": {},
   "source": [
    "# **Kynning á JupyterLab og Python**\n",
    "Ef annað er ekki tekið fram á að byrja á að keyra reitina í þessari bók (smella á þá og slá á control/enter) og fylgja svo leiðbeiningum. Ef þær vantar getur verið sniðugt að gera einhverjar breytingar að eigin vali og skoða áhrifin."
   ]
  },
  {
   "cell_type": "markdown",
   "metadata": {},
   "source": [
    "## Útprentun\n",
    "- Jupyter skrifar sjálfkrafa niðurstöðu segðar sem er sett aftast í reit\n",
    "- Nota má <tt>print</tt>-fallið til að skrifa út niðurstöður framar í reitnum.\n",
    "\n",
    "1. Prófið að setja `;` á eftir y í öftustu línunni. "
   ]
  },
  {
   "cell_type": "code",
   "execution_count": null,
   "metadata": {},
   "outputs": [],
   "source": [
    "x = 1 + 2       # Myllumerki (tvíkross fyrir komment)\n",
    "print(x, 2 + 2)\n",
    "\n",
    "y = x + 2\n",
    "x + 1, y        # Til að sýna tvær niðurstöður má setja kommu á milli"
   ]
  },
  {
   "cell_type": "markdown",
   "metadata": {},
   "source": [
    "## Stutt æfing í Jupyter-ritvinnslu\n",
    "Skoðið ósniðna textann í þessum reit með því að tvísmella á hann. Sníðið svo textann með control/enter.\n",
    "\n",
    "1. Prófið að búa til reit fyrir ofan þennan með *esc-a* og fyrir neðan með *esc-b* (above/below). Breytið neðri reitnum í textareit með *esc-m* (eða smellið á Markdown) og aftur í forritsreit með *esc-y* (eða smellið á Code). Takið eftir að það er `[nn]:` framan við forritsreiti.\n",
    "\n",
    "2. Látið reit vera Markdown og setjið inn fyrirsögn með ## fremst, og prófið feitletrun og skáletrun með \\*\\*feitt\\*\\* og \\*ská\\*. Prófið að afturkalla (*undo*) með control/z (command/z á Mac) og endurtaka (*redo*) með control/shift/z (command/shift/z á Mac). Prófið að eyða þessum reitum með *esc-d-d* og afturkalla eyðinguna með *esc-z* (*cell-undo*).\n",
    "\n",
    "3. Skoðið hér á eftir hvernig settur er forritsbútur inn í textareit (með inndrætti um 4 bil) og prófið að endurtaka leikinn sjálf.\n",
    "\n",
    "Forrit:\n",
    "\n",
    "    x = 3\n",
    "    y = x + 2\n",
    "    print(y)"
   ]
  },
  {
   "cell_type": "markdown",
   "metadata": {},
   "source": [
    "## Æfing í JupyterLab-skrám\n",
    "1. Felið skráalistann og sýnið aftur með því að smella á möppuna efst t.v. (neðan við Jupyter-táknið). \n",
    "2. Búið til nýja vinnubók með File–New–Notebook (og veljið svo þessa jafnskjótt aftur). Takið eftir að nýja bókin birtist sem *Untitledxx* í skráalista vinstra megin. \n",
    "3. Skiptið um nafn á nýju bókinni með því að hægri-smella á hana og velja *Rename*. \n",
    "4. Setjið eitthvað einfalt forrit inn í nýju bókina. Prófið svo að draga flipann með vinnubókarnafninu til (\"drag-and-drop\") og sýna þannig báðar vinnubækurnar hlið við hlið, hvora ofan við aðra, og aftur eins og byrjað var með, eina í einu.\n",
    "5. Eyðið nýju bókinni með hægri smelli og \"Delete\"."
   ]
  },
  {
   "cell_type": "markdown",
   "metadata": {},
   "source": [
    "## Breytur og tög\n",
    "\n",
    "Breytur hafa ekki tög (type) eins og í Java, heldur hafa gildi tög. Ekki þarf að skilgreina breytur.\n",
    "Grunntögin eru m.a.:\n",
    "- rökgildi (bool): <tt>True/False</tt>\n",
    "- strengir (string) <tt>'strengur', '42', \"strengur í tvöföldum gæsalöppum\"</tt>\n",
    "- heiltölur (int): <tt>42</tt>\n",
    "- kommutölur (float): <tt>-3.14159, 1e100</tt>"
   ]
  },
  {
   "cell_type": "code",
   "execution_count": null,
   "metadata": {},
   "outputs": [],
   "source": [
    "k = 3\n",
    "print(type(k))    # til að finna tag gildis má nota type\n",
    "display(type(k))  # display skrifar öðruvísi en print\n",
    "k = 3.4\n",
    "display(type(k))\n",
    "type('strengur'), type(k > 4), type(False) # þetta skrifast í raun með display"
   ]
  },
  {
   "cell_type": "markdown",
   "metadata": {},
   "source": [
    "## Meira um print"
   ]
  },
  {
   "cell_type": "code",
   "execution_count": null,
   "metadata": {},
   "outputs": [],
   "source": [
    "s = \"Strengur\"\n",
    "print(s + s)          # skeytir saman strengjum, ekkert bil\n",
    "print(s, s)           # setur bil á milli\n",
    "print(s, s, sep=\", \") # separator\n",
    "print(\"s = \", end=\"\") # fer ekki í næstu línu\n",
    "print(s)"
   ]
  },
  {
   "cell_type": "markdown",
   "metadata": {},
   "source": [
    "## F-strengir og ný lína (*linefeed*)\n",
    "1. Prófið að prenta s með f-streng `f\"{s:5}\"`\n",
    "2. Prentið heiltölu með `{k:5}`, `{k:<5}` og `{k:>5}`"
   ]
  },
  {
   "cell_type": "code",
   "execution_count": null,
   "metadata": {},
   "outputs": [],
   "source": [
    "e = 2.7182818\n",
    "k = 12\n",
    "print(f\"Jón er {k+1} ára\") # slaufusvigar utan um segð\n",
    "print(f'e = {e:.3f}')      # 3 aukastafir\n",
    "print(f'e = {e:6.3f}')     # 6 stafa breitt svið, 3 aukast.\n",
    "s = 'abc'\n",
    "print(f'{s:<5}\\n{s:>5}')   # vinstri jafna, ný lína, hægri jafna í 5 stafa breidd\n",
    "print(f'{s:5}')"
   ]
  },
  {
   "cell_type": "markdown",
   "metadata": {},
   "source": [
    "## Strengir\n",
    "\n",
    "Við getum skeytt saman strengjum með `+` og endurtekið strengi með `*`\n",
    "1. Búið fyrst til strengi með fornafni ykkar, millinafni (ef við á) og eftirnafni, og búið svo til streng með fullu nafni með + (notið \" \" til að fá bilin á milli).\n",
    "2. Búið til f-streng  með e með þremur aukastöfum, \"e = 2.718\""
   ]
  },
  {
   "cell_type": "code",
   "execution_count": null,
   "metadata": {},
   "outputs": [],
   "source": [
    "a = 'a'\n",
    "b = 'xy'\n",
    "x = 1\n",
    "e = 2.71828\n",
    "print(len(b))           # lengd strengsins\n",
    "print(a + b)            # samskeyting\n",
    "print(a*5 + b*3)        # margföldun er eins og margir plúsar\n",
    "print(\"x = \" + str(x))  # str breytir heiltölu í streng\n",
    "print(\"e = \" + str(e))  # og líka kommutölu – en ekki hægt að stjórna aukastafafjölda\n",
    "print(\"x = \" + x)       # tölum er ekki breytt sjálfkrafa í strengi"
   ]
  },
  {
   "cell_type": "markdown",
   "metadata": {},
   "source": [
    "## Hlutstrengir\n",
    "Við getum vísað í hluta af streng með\n",
    "\n",
    "- einni tölu, byrjað að telja í 0, t.d. `s[0]`\n",
    "- bili, `s[0:5]` \n",
    "- frá byrjun: s[:5], eða út í enda: `s[1:]`\n",
    "- og talið aftur á bak `s[-1]`\n",
    "\n",
    "Í reitnum á eftir er fyrsti stafur strengsins skrifaður. Prófið alla hina möguleikana.\n",
    "Prófið líka að velja frá og með sæti 2 til og með næstsíðasta sætisins."
   ]
  },
  {
   "cell_type": "code",
   "execution_count": null,
   "metadata": {},
   "outputs": [],
   "source": [
    "s = \"abcdefg\"\n",
    "print(s[0])"
   ]
  },
  {
   "cell_type": "markdown",
   "metadata": {},
   "source": [
    "## Útreikningur\n",
    "Heiltölur hegða sér eins og í Java, nema að þær hafa engin stærðartakmörk. Venjulegar reiknireglur gilda um `+ - * /`, `**` er veldi `%` er afgangur úr deilingu og `//` er heiltöludeiling. Nota má gildisgjöf `+=` eins og í Java, en `++` gengur ekki"
   ]
  },
  {
   "cell_type": "code",
   "execution_count": null,
   "metadata": {},
   "outputs": [],
   "source": [
    "a = 4\n",
    "a += 1       # a verður 5\n",
    "print(a/3)\n",
    "print(a//3)\n",
    "print(a % 3)\n",
    "print(4**3)\n",
    "print(4.0**3)\n",
    "print(2**256)"
   ]
  },
  {
   "cell_type": "markdown",
   "metadata": {},
   "source": [
    "## Rökgildi (*boolean*)\n",
    "\n",
    "Notum `==`, `<=`, `>=`, `<`, `>`, `!=` til að bera saman gildi.\n",
    "\n",
    "Svo má tengja með `and`, `or` og `not` (en ekki eins og í Java, `&&`, `||` og `!`)"
   ]
  },
  {
   "cell_type": "code",
   "execution_count": null,
   "metadata": {},
   "outputs": [],
   "source": [
    "x = 3\n",
    "print(0 <= x and x <= 10)\n",
    "print(0 <= x <= 10)       # sama eins og að ofan, skv. stærðfræðihefð\n",
    "print(False or x == 4)    # jafngildir \"False or (x == 4)\" "
   ]
  },
  {
   "cell_type": "markdown",
   "metadata": {},
   "source": [
    "## Ef-setningar\n",
    "\n",
    "Ef-setning framkvæmir blokk skipana ef skilyrði er uppfyllt og aðra blokk ef ekki. Python notar ekki slaufusviga til að afmarka blokkina heldur inndreginn kóða. Oft eru notuð 4 bil og það gerir Jupyter sjálfkrafa. \n",
    "\n",
    "Það má sleppa **else**-hluta, og það má setja skipun á sömu línu og **if**. Fyrir *else if* er notað `elif`.\n",
    "\n",
    "1. Prófið að láta x vera 0 og keyrið aftur.\n",
    "2. Prófið að láta x vera 14 og keyrið aftur."
   ]
  },
  {
   "cell_type": "code",
   "execution_count": null,
   "metadata": {},
   "outputs": [],
   "source": [
    "x = 0\n",
    "if x == 0:\n",
    "    print(\"x er núll\")\n",
    "else:\n",
    "    print(\"x er ekki núll\")\n",
    "    print(f\"x er {x}\")\n",
    "print(\"Hér er ef-setningin búin\") # ekki hluti af if\n",
    "if x == 10: print(\"OK\")\n",
    "                  \n",
    "if 0 <= x < 12:\n",
    "    print(\"Fyrir hádegi\")\n",
    "elif 12 < x <= 24:\n",
    "    print(\"Eftir hádegi\")\n",
    "elif x == 12:\n",
    "    print(\"Hádegi\")\n",
    "else:\n",
    "    print(\"Ekki tími\")        "
   ]
  },
  {
   "cell_type": "markdown",
   "metadata": {},
   "source": [
    "## While-lykkjur\n",
    "\n",
    "Endurtekur skipun meðan skilyrði er satt, skilyrðið er athugað í byrjun eins og í Java.\n",
    "1. Prófið að láta x fara upp í 50 og skruna (scrolla) úttakinu. Prófið svo að velja *File–Print* og takið eftir að allt úttakið kemur með í útprentun (*print-preview*-glugganum)."
   ]
  },
  {
   "cell_type": "code",
   "execution_count": null,
   "metadata": {
    "scrolled": true
   },
   "outputs": [],
   "source": [
    "x = 0\n",
    "while x <= 50:\n",
    "    print(x)\n",
    "    x += 1"
   ]
  },
  {
   "cell_type": "markdown",
   "metadata": {},
   "source": [
    "## For-lykkjur\n",
    "\n",
    "Ólíkt Java er farið í gegn um mismunandi gildi á stýribreytu með því að kalla á sérstakt fall, `range`-fallið."
   ]
  },
  {
   "cell_type": "code",
   "execution_count": null,
   "metadata": {},
   "outputs": [],
   "source": [
    "for x in range(6): # 0 til 5, 6 er ekki með\n",
    "    print(x)"
   ]
  },
  {
   "cell_type": "code",
   "execution_count": null,
   "metadata": {},
   "outputs": [],
   "source": [
    "for x in range(2,6): print(x)   # 2 til 5, skipun má vera á sömu línu\n",
    "for x in range(0,6,2): print(x) # hoppað um 2 og endað í 4"
   ]
  },
  {
   "cell_type": "markdown",
   "metadata": {},
   "source": [
    "## Út úr lykkju / næsta umferð\n",
    "`break` og `continue` hegða sér eins og í Java.\n",
    "1. Búið til for-lykkju sem leitar að fyrstu heiltölunni sem uppfyllir jöfnuna $x^2 + 255 = 32x$ með því að lykkja með x frá 0 til 100 og brjótast út úr lykkjunni með `break` ef jafnan er uppfyllt.\n",
    "2. Útfærið eftirfarandi reiknirit í Python:\n",
    "\n",
    "        Fyrir k=1,...,20:\n",
    "           y := mod(x,5)    (afgangur úr deilingu með 5)\n",
    "           ef y=0, þá fara í næstu umferð\n",
    "           prenta x/y"
   ]
  },
  {
   "cell_type": "code",
   "execution_count": null,
   "metadata": {},
   "outputs": [],
   "source": []
  },
  {
   "cell_type": "markdown",
   "metadata": {},
   "source": [
    "## Innbyggð föll\n",
    "Hér framar hafa innbyggðu föllin type, print og len verið kynnt. Meðal annarra innbyggðra falla eru:\n",
    "\n",
    "    abs(x)    Tölugildi x\n",
    "    max(x,y)  Stærra gildið\n",
    "    min(x,y)  Minna gildið\n",
    "    int(x)    Kommutala → heiltala (aukastafir skornir af)\n",
    "    float(x)  Heiltala → kommutala\n",
    "\n",
    "Hér á eftir eru fyrstu tvö föllin prófuð. Prófið hin:"
   ]
  },
  {
   "cell_type": "code",
   "execution_count": null,
   "metadata": {},
   "outputs": [],
   "source": [
    "abs(-3), max(2,7)"
   ]
  },
  {
   "cell_type": "markdown",
   "metadata": {},
   "source": [
    "## Stærðfræðiföll\n",
    "Til að nota stærðfræðiföll þarf að \"flytja inn\" svonefnda math-einingu (*-module*). Svo þarf að auðkenna föllin með `math.`, t.d. fæst kvaðratrót með `math.sqrt`. Önnur föll eru m.a. `sin, cos, tan, exp, log10, log` (hornaföllin miðast við radíana og síðastnefnda fallið gefur náttúrulegan logra, $\\ln$) og fastar eru m.a. `pi` og `e`.\n",
    "1. Reiknið líka $\\log_{10}(1000)$\n",
    "2. og $\\sin(\\pi/6)$\n",
    "3. og að lokum $\\ln(e^3)$"
   ]
  },
  {
   "cell_type": "code",
   "execution_count": null,
   "metadata": {},
   "outputs": [],
   "source": [
    "import math\n",
    "print(math.sqrt(9))\n",
    "print(math.pi)"
   ]
  },
  {
   "cell_type": "markdown",
   "metadata": {},
   "source": [
    "## Föll skrifuð af notanda – lokaæfingin\n",
    "Við notum `def` til að skilgreina fall, og viðföngin hafa engin tög:"
   ]
  },
  {
   "cell_type": "code",
   "execution_count": null,
   "metadata": {},
   "outputs": [],
   "source": [
    "def f(x):\n",
    "    fx = 2*x\n",
    "    return fx\n",
    "\n",
    "f(2), f('Halló')"
   ]
  },
  {
   "cell_type": "markdown",
   "metadata": {},
   "source": [
    "Búið til fall sem reiknar $f(x) = \\sqrt{x^2 + 3}$. Búið svo til forrit sem skrifar út töflu yfir $x$ og $f(x)$ fyrir $x=0,1\\ldots 12$ með eftirfarandi sniði (notið m.a. f-strengi):\n",
    "\n",
    "     x     f(x)\n",
    "    ––––––––––––\n",
    "     0    1.7321\n",
    "     1    2.0000\n",
    "    ...\n",
    "    12   12.1244 "
   ]
  },
  {
   "cell_type": "code",
   "execution_count": null,
   "metadata": {},
   "outputs": [],
   "source": []
  }
 ],
 "metadata": {
  "kernelspec": {
   "display_name": "Python 3",
   "language": "python",
   "name": "python3"
  },
  "language_info": {
   "codemirror_mode": {
    "name": "ipython",
    "version": 3
   },
   "file_extension": ".py",
   "mimetype": "text/x-python",
   "name": "python",
   "nbconvert_exporter": "python",
   "pygments_lexer": "ipython3",
   "version": "3.8.5"
  }
 },
 "nbformat": 4,
 "nbformat_minor": 4
}
