{
 "cells": [
  {
   "cell_type": "markdown",
   "metadata": {},
   "source": [
    "###  Collatz reikningar\n",
    "*Collatz-runur* eru reiknaðar þannig að byrjað er með einhverja tölu $n_0$, næsta tala er reiknuð aftur og aftur skv.\n",
    "\n",
    "$$\n",
    "   n_{k+1} = \\begin{cases}\n",
    "      n_k/2 \\text{ ef $n_k$ er slétt tala}\\\\\n",
    "      3n_k+1 \\text{ ef $n_k$ er oddatala}\n",
    "      \\end{cases}\n",
    "$$\n",
    "<br>\n",
    "og ef $n_{k+1} = 1$ þá er hætt.\n",
    "\n",
    "Ef við byrjum t.d. með $n_0=5$ þá fæst runan 5, 16, 8, 4, 2, 1. **Tilgáta Collatz**, sem engum hefur tekist að sanna, er sú að það sé sama hvaða $n_0$ er byrjað með,\n",
    "runan muni **alltaf** að lokum lenda í 1 og hætta."
   ]
  },
  {
   "cell_type": "code",
   "execution_count": 1,
   "metadata": {},
   "outputs": [],
   "source": [
    "# Fall sem reiknar næstu tölu á eftir x í Collatz-runu\n",
    "def næsta(x):\n",
    "    if x % 2 == 0:\n",
    "        f = x//2\n",
    "    else:       \n",
    "        f = 3*x + 1\n",
    "    return f\n",
    "\n",
    "# Forrit sem finnur og skrifar út Collatz-runu\n",
    "n = 2\n",
    "print('Collatz-runa:')\n",
    "while n > 1:    \n",
    "    print(n, end=', ')\n",
    "    n = næsta(n)\n",
    "print(n)"
   ]
  },
  {
   "cell_type": "code",
   "execution_count": 2,
   "metadata": {},
   "outputs": [],
   "source": [
    "import math\n",
    "print('x     √x     x²')\n",
    "print('―――――――――――――――')\n",
    "n = 2\n",
    "for x in range(0,8,2):\n",
    "    print(f'{x}   {math.sqrt(x):.{n}f}   {x**2:2}')"
   ]
  }
 ],
 "metadata": {
  "kernelspec": {
   "display_name": "Python 3",
   "language": "python",
   "name": "python3"
  },
  "language_info": {
   "codemirror_mode": {
    "name": "ipython",
    "version": 3
   },
   "file_extension": ".py",
   "mimetype": "text/x-python",
   "name": "python",
   "nbconvert_exporter": "python",
   "pygments_lexer": "ipython3",
   "version": "3.7.1"
  },
  "nteract": {
   "version": "nteract-on-jupyter@1.9.15"
  }
 },
 "nbformat": 4,
 "nbformat_minor": 2
}
