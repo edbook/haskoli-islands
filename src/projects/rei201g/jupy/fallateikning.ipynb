{
 "cells": [
  {
   "cell_type": "markdown",
   "metadata": {},
   "source": [
    "# Fyrirlestraræfing \"Fallateikning\"\n",
    "Þessi æfing snýst um teikningu með Matplotlib. Byrjið á að nústilla með því að keyra næsta reit."
   ]
  },
  {
   "cell_type": "code",
   "execution_count": 3,
   "metadata": {},
   "outputs": [],
   "source": [
    "#BYRJA -- Keyrið til að frumstilla numpy o.fl.\n",
    "import numpy as np\n",
    "import numpy.random as npr\n",
    "import matplotlib.pyplot as plt\n",
    "from urllib.request import urlopen\n",
    "plt.rc('axes', axisbelow=True)\n",
    "%matplotlib inline\n",
    "np.set_printoptions(precision=2, floatmode='fixed', suppress=True)"
   ]
  },
  {
   "cell_type": "markdown",
   "metadata": {},
   "source": [
    "### 1. Teikning af gröfum falla\n",
    "1. Með því að nota linspace með\n",
    "hæfilegu skrefi má nálga graf falls með bútum af línustrikum. Við getum t.d. teiknað graf sínus-fallsins á bilinu $[0, 4\\pi]$ með:"
   ]
  },
  {
   "cell_type": "code",
   "execution_count": null,
   "metadata": {},
   "outputs": [],
   "source": [
    "#EINFALT-GRAF\n",
    "pi = np.pi\n",
    "t = np.linspace(0, 4*pi)\n",
    "plt.plot(t, np.sin(t));"
   ]
  },
  {
   "cell_type": "markdown",
   "metadata": {},
   "source": [
    "2. Hér er hægt að bæta ýmislegt. Afritið reitinn #EINFALT-GRAF í nýjan reit og prófið svo:\n",
    "\n",
    "   - Við getum teigt á grafinu (breikkað myndina) með\n",
    "     skipuninni ``plt.figure(figsize=(12,4))`` (á undan plot).\n",
    "   \n",
    "   - Ef grannt er skoðað sjást línustrikin. \n",
    "     Mýkra graf fæst t.d. með ``linspace(0, 4*pi, 200)``\n",
    "     \n",
    "   - Svo má bæta við rúðuneti með ``plt.grid``\n",
    "   \n",
    "   - Það er hægt að teikna x- og y-ása með ``plt.axhline`` \n",
    "     og ``plt.axvline``. \n",
    "     Notið með stika ``c='k'`` til að fá svarta ása.\n",
    "     \n",
    "   - Við getum látið x-ásinn ná t.d. frá -0.2 til $4\\pi$ \n",
    "     með ``plt.xlim([-0.2, 4*pi])``.\n",
    "     \n",
    "   - Það má fjarlægja rammann með ``plt.box(False)``\n",
    "   \n",
    "   - Síðasta tötsið fæst með ``plt.tick_params(length=0)``"
   ]
  },
  {
   "cell_type": "markdown",
   "metadata": {},
   "source": [
    "3. Teiknið í framhaldi $y = \\cos x$ inn á sömu mynd.\n",
    "\n",
    "4. Teiknið nú nýja mynd með $y = e^x$ á bilinu $[-5, 2]$."
   ]
  },
  {
   "cell_type": "markdown",
   "metadata": {},
   "source": [
    "### 2. Teikning punktasafns og jafna bestu línu\n",
    "1. Í eftirfarandi reit (#PLÖNTUR) eru búin til slembigögn (sem gætu t.d.\n",
    "   sýnt hæð 50 trjáa $y$ sem fall af aldri þeirra, $x$). Hér fylgir $y$\n",
    "   líkaninu:<br>\n",
    "   <br>\n",
    "   $$\n",
    "   y = 1.5 x + 0.3 + \\varepsilon\n",
    "   $$\n",
    "   <br>\n",
    "   þar sem $x$ er normaldreifð skekkja með meðaltal 0 og staðalfrávik 0.7.\n",
    "   Bætið við útprentun x og y aftast í reitinn og keyrið hann. "
   ]
  },
  {
   "cell_type": "code",
   "execution_count": null,
   "metadata": {},
   "outputs": [],
   "source": [
    "#PLÖNTUR (dæmi 2.1)\n",
    "n = 50\n",
    "x = 1 + 5*npr.random(n)     # Jafnt dreifð gögn á bilinu [1,6]\n",
    "e = 0.7*npr.normal(size=n)  # Normaldreifðar skekkjur með staðalfrávik 0.7\n",
    "y = 1.5*x + 0.3 + e"
   ]
  },
  {
   "cell_type": "markdown",
   "metadata": {},
   "source": [
    "2. Ef við prentum ``x`` og ``y`` beint út (t.d. með ``print(x,y)``) þá parast samstæð gildi ekki.\n",
    "   Ein leið til að bæta úr því    er að búa til fylki með tvo dálka, ``x`` og ``y``. \n",
    "   Það má gera með virkjanum np.c_[⋅,⋅] (c fyrir *column*):\n",
    "\n",
    "        xy = np.c_[x,y]\n",
    "        \n",
    "   (það er líka til np.r_ virki, og ágæt útskýring er í þessu \n",
    "   [Quora svari](https://www.quora.com/Can-anybody-elaborate-the-use-of-c_-in-numpy)"
   ]
  },
  {
   "cell_type": "markdown",
   "metadata": {},
   "source": [
    "3. En ekkert kemur samt í staðinn fyrir góða mynd. Við höfum séð ``plt.scatter`` í tímadæmi T3.5. Dæmi um það er:"
   ]
  },
  {
   "cell_type": "code",
   "execution_count": null,
   "metadata": {},
   "outputs": [],
   "source": [
    "#SCATTER\n",
    "u = npr.random(50)\n",
    "v = npr.random(50)\n",
    "plt.scatter(u, v, color='g');"
   ]
  },
  {
   "cell_type": "markdown",
   "metadata": {},
   "source": [
    "3. (frh.) Teiknið slembigögnin úr reitnum #PLÖNTUR með scatter. \n",
    "   - Skammstafa má color með c og rita ``plt.scatter(x, y, c=litur)``,\n",
    "     t.d. ``c='tomato'``. \n",
    "   - Litir geta verið r, g, b, y, w, k (black), c (cyan), m (magenta) eða [nafn](https://stackoverflow.com/a/37232760/256368)\n",
    "   - Bætið við rúðuneti með ``plt.grid()``\n",
    "   - Hægt er að merkja x-ás með ``plt.xlabel``, t.d. ``plt.xlabel('Aldur (ár)')`` og sömuleiðis y-ás "
   ]
  },
  {
   "cell_type": "markdown",
   "metadata": {},
   "source": [
    "4. Við viljum finna \"jöfnu bestu línu\", sem sé beina línu sem lýsir gagnasafninu vel.\n",
    "   Ef jafna línunnar er $y = l(x) = ax + b$ þá viljum við velja $a$ og $b$ þannig að \n",
    "   summan af (lóðréttum) fjarlægðum punktanna frá línunni í öðru veldi verði sem minnst.\n",
    "   Með öðrum orðum viljum við lágmarka fallið:\n",
    "   \n",
    "   $$\n",
    "   S(a,b) = \\sum_{i=1}^{50}(ax_i + b - y_i)^2\n",
    "   $$\n",
    "   \n",
    "   Skoðum [þennan kafla](https://en.wikipedia.org/wiki/Linear_least_squares#Example) í \n",
    "   Wikipediu-greininni um línuleg minnstu kvaðröt (*Linear least squares*) til að \n",
    "   glöggva okkur á þessu.\n",
    "   Við getum beðið með að skoða stærðfræðina sem nota má til að finna $a$ og $b$\n",
    "   því það er til NumPy fall sem gerir það fyrir okkur:\n",
    "   \n",
    "       (a,b) = np.polyfit(x,y,1)\n",
    "       \n",
    "   Síðasti stikinn (sem er 1 hér) er stigið á margliðunni sem við ákvörðum, en bein\n",
    "   lína er 1. stigs margliða."
   ]
  },
  {
   "cell_type": "markdown",
   "metadata": {},
   "source": [
    "Næsta skref er að teikna beinu línuna inn á grafið í lið 3. \n",
    "Það getum við gert með því að finna endapunkta hennar: \n",
    "\n",
    "$$\n",
    "(X_0, Y_0) = (1, l(1)) = (1, 1a + b) \\text{ og }\\\\\n",
    "(X_1, Y_1) = (6, l(6)) = (6, 6a + b)\n",
    "$$\n",
    "\n",
    "og teikna svo strik frá $(X_0, Y_0)$ til $(X_1, Y_1)$. \n",
    "Þetta er auðvelt í Python:\n",
    "\n",
    "     X = np.array([1,6])\n",
    "     Y = a*X + b\n",
    "     plt.plot(X,Y)\n",
    "        \n",
    "(því ``*`` og ``+`` verka stakvís á vigra) "
   ]
  },
  {
   "cell_type": "markdown",
   "metadata": {},
   "source": [
    "### 3. Hiti og úrkoma\n",
    "Skráin [cs.hi.is/strei/hiti-urkoma.txt](http://cs.hi.is/strei/hiti-urkoma.txt) geymir ársmeðalhita og heildarúrkomu áranna 1949–2018 í Stykkishólmi og byrjar svona:\n",
    "\n",
    "        1949\t3.2\t565.5\n",
    "        1950\t4.0\t535.5\n",
    "        1951\t3.4\t460.6\n",
    "        ...\n",
    "\n",
    "Með hliðsjón af Tímadæmum T3.5 má lesa gögnin inn í Python með:\n",
    "\n",
    "        f = urlopen('http://cs.hi.is/strei/hiti-urkoma.txt')\n",
    "        (ár,h,r) = np.loadtxt(f).T\n",
    "        \n",
    "Ef tími vinnst til vinnum við svo áfram með þessi gögn í fyrirlestrinum."
   ]
  },
  {
   "cell_type": "code",
   "execution_count": 6,
   "metadata": {},
   "outputs": [],
   "source": [
    "f = urlopen('http://cs.hi.is/strei/hiti-urkoma.txt')\n",
    "(ár,h,r) = np.loadtxt(f).T"
   ]
  }
 ],
 "metadata": {
  "kernelspec": {
   "display_name": "Python 3",
   "language": "python",
   "name": "python3"
  },
  "language_info": {
   "codemirror_mode": {
    "name": "ipython",
    "version": 3
   },
   "file_extension": ".py",
   "mimetype": "text/x-python",
   "name": "python",
   "nbconvert_exporter": "python",
   "pygments_lexer": "ipython3",
   "version": "3.7.4"
  }
 },
 "nbformat": 4,
 "nbformat_minor": 2
}
