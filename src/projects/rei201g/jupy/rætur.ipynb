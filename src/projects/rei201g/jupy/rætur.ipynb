{
 "cells": [
  {
   "cell_type": "code",
   "execution_count": 18,
   "metadata": {},
   "outputs": [
    {
     "name": "stdout",
     "output_type": "stream",
     "text": [
      "2  1.414\n",
      "3  1.732\n",
      "4  2.000\n"
     ]
    }
   ],
   "source": [
    "import math\n",
    "for x in range(2,5):\n",
    "    print('%1d  %5.3f' % (x, math.sqrt(x)))"
   ]
  },
  {
   "cell_type": "code",
   "execution_count": 20,
   "metadata": {},
   "outputs": [
    {
     "name": "stdout",
     "output_type": "stream",
     "text": [
      "2  1.414\n",
      "3  1.732\n",
      "4  2.000\n"
     ]
    }
   ],
   "source": [
    "for x in range(2,5):\n",
    "    print('{}  {:5.3f}'.format(x, math.sqrt(x)))"
   ]
  },
  {
   "cell_type": "code",
   "execution_count": 2,
   "metadata": {},
   "outputs": [
    {
     "name": "stdout",
     "output_type": "stream",
     "text": [
      "x     √x     x²\n",
      "―――――――――――――――\n",
      "0   0.0000    0\n",
      "1   1.0000    1\n",
      "2   1.4142    4\n",
      "3   1.7321    9\n",
      "4   2.0000   16\n"
     ]
    }
   ],
   "source": [
    "import math\n",
    "print('x     √x     x²')\n",
    "print('―――――――――――――――')\n",
    "for x in range(5):\n",
    "    print(f'{x}   {math.sqrt(x):.4f}   {x**2:2}')"
   ]
  },
  {
   "cell_type": "code",
   "execution_count": 41,
   "metadata": {},
   "outputs": [
    {
     "name": "stdout",
     "output_type": "stream",
     "text": [
      "Elapsed time = 0.041s\n",
      "Elapsed time = 0.031s\n"
     ]
    }
   ],
   "source": [
    "from numba import jit\n",
    "import time\n",
    "\n",
    "@jit\n",
    "def timeit():\n",
    "    y = 0\n",
    "    n = round(1e7)\n",
    "    t0 = time.time()\n",
    "    for i in range(n):\n",
    "        y += i\n",
    "    t1 = time.time()\n",
    "    i = 0\n",
    "    while i < n:\n",
    "        i += 1\n",
    "        y += i\n",
    "    t2 = time.time()\n",
    "    return t0,t1,t2\n",
    "\n",
    "t0,t1,t2 = timeit()\n",
    "print(f'Elapsed time = {t1-t0:.2}s')\n",
    "print(f'Elapsed time = {t2-t1:.2}s')"
   ]
  }
 ],
 "metadata": {
  "kernelspec": {
   "display_name": "Python 3",
   "language": "python",
   "name": "python3"
  },
  "language_info": {
   "codemirror_mode": {
    "name": "ipython",
    "version": 3
   },
   "file_extension": ".py",
   "mimetype": "text/x-python",
   "name": "python",
   "nbconvert_exporter": "python",
   "pygments_lexer": "ipython3",
   "version": "3.7.1"
  }
 },
 "nbformat": 4,
 "nbformat_minor": 2
}
