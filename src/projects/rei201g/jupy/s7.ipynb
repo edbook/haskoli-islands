{
 "cells": [
  {
   "cell_type": "markdown",
   "metadata": {},
   "source": [
    "# Stærðfræði og reiknifræði – Skiladæmi 7"
   ]
  },
  {
   "cell_type": "code",
   "execution_count": 2,
   "metadata": {},
   "outputs": [],
   "source": [
    "#BYRJA -- Keyrið til að frumstilla.\n",
    "import numpy as np, numpy.random as npr, numpy.linalg as la\n",
    "import scipy.stats as stat, statsmodels.api as sm\n",
    "import matplotlib.pyplot as plt\n",
    "plt.rc('axes', axisbelow=True)\n",
    "%matplotlib inline\n",
    "# disp(x,y...) skrifar x,y... með 3 aukastöfum\n",
    "def disp(*args): print(*(f'{a:.3f}' if isinstance(a,float) else a for a in args))\n",
    "np.set_printoptions(precision=4, floatmode='fixed', suppress=True)"
   ]
  },
  {
   "cell_type": "code",
   "execution_count": 35,
   "metadata": {},
   "outputs": [
    {
     "name": "stdout",
     "output_type": "stream",
     "text": [
      "[0.3030 0.5264 0.6619 0.0599 0.8301 0.8270 0.3681 0.1242 0.1930 0.7548]\n",
      "0.371\n"
     ]
    },
    {
     "data": {
      "text/plain": [
       "array([[1.0000, 0.3714],\n",
       "       [0.3714, 1.0000]])"
      ]
     },
     "execution_count": 35,
     "metadata": {},
     "output_type": "execute_result"
    }
   ],
   "source": [
    "x=npr.rand(10)\n",
    "y=npr.rand(10)\n",
    "disp(x)\n",
    "(r,p)=stat.pearsonr(x,y)\n",
    "disp(r)\n",
    "A = np.c_[x,y]\n",
    "A\n",
    "R = np.corrcoef(np.c_[x,y])\n",
    "A\n",
    "np.corrcoef(x,y)"
   ]
  },
  {
   "cell_type": "markdown",
   "metadata": {},
   "source": [
    "## 1. Ýmsar viguraðgerðir\n",
    "Lát $n = 100$ og $x = (1,\\ldots,n)$ og $y = (1, 1/2,\\ldots,1/n)$. Reiknið í Python:\n",
    "\n",
    "**a)** Lengd $x$, meðaltal, staðalfrávik og dreifni<br>\n",
    "**b)** Fjarlægð, fylgni og horn milli $x$ og $y$<br>\n",
    "**c)** Fjarlægðina milli Reykjavíkur og Akureyrar í beinni loftlínu\n",
    "\n",
    "*Ef þið finnið hnattstöðuna með Google maps er hún gefin sem tugabrot en ef þið flettið henni upp á netinu er ekki ólíklegt að þið fáið gráður, mínútur og sekúndur, t.d. 64° 15´ 30´´ sem (ef við sleppum sekúndunum) jafngildir 64 + 15/60 = 64.25°*"
   ]
  },
  {
   "cell_type": "markdown",
   "metadata": {},
   "source": [
    "## 2. Lágmörkun með stigli\n",
    "**a)** Í skiladæmi 5.B1 var stigull (*gradient*) Rosenbrock-fallsins, $f(x, y) = (1 - x)^2 + 100(y - x^2)^2$ reiknaður og útkoman var \n",
    "\n",
    "$$\\nabla f(x,y) = \\pmatrix{2x - 2 - 400x(y - x^2) \\\\ 200(y - x^2)}$$\n",
    "\n",
    "Ef við umritum formúlurnar með því að skrifa $(x_0, y_0)$ í stað $(x,y)$ og skilgreina $x = (x_0, y_0)$ fæst\n",
    "\n",
    "$$\\begin{align}f(x) &= (1-x_0)^2 + 100(x_1 - x_0^2)^2 \\\\\n",
    "        \\nabla f(x) &= \\pmatrix{2x_0 - 2 - 400x_0(x_1 - x_0^2) \\\\ 200(x_1 - x_0^2)}\\end{align}$$\n",
    "        \n",
    "Skrifið Python föll `f(x)` og `g(x)` sem reikna fallsgildi og stigul Rosenbrock-fallsins.\n",
    "\n",
    "**b)** `opt.minimize` hefur valkvæðan stika `jac` sem er nafn falls sem reiknar stigul fallsins sem á að lágmarka (*jac* er stytting á *Jacobian*, sem fyrir $f\\colon\\Bbb{R}\\to\\Bbb{R^2}$ er samheiti við *gradient*). Með *jac*-stika verður lágmörkunarkallið:\n",
    "\n",
    "        result = opt.minimize(f, x0, jac=g)\n",
    "        \n",
    "Ef `opt.minimize` hefur aðgang að stiglinum þá þarf mun færri köll á fallið til að finna lággildið. Ákvarðið lággildi Rosenbrock-fallsins ef byrjað er í $x_0=(-1.2, 1)$ bæði með og án stigul-falls, og finnið út hve margar ítrekanir og köll á `f` þarf í hvoru tilviki fyrir sig."
   ]
  },
  {
   "cell_type": "markdown",
   "metadata": {},
   "source": [
    "## 3. Næsti nágranni\n",
    "Þetta dæmi tengist greinunum *Nearest neighbor* og *Document dissimilarity* á bls. 50–51 í kennslubók. Í skránni `wikitíðni.npz` (*npz* er sérstakt Numpy-zip-snið) er búið að safna saman upplýsingum um tíðni 1000 orða í 300 Wikipedia-greinum sem skiptast í 5 flokka (Pokemon, veðurfræði, listir, stofnanir Sameinuðu þjóðanna, og rafmagnsverkfræði). Algengum orðum s.s. \"the\", \"in\", \"of\" hefur verið sleppt. Í heimadæmum 8 verður reynt að finna í hvaða flokki hver grein er, en hér látum við duga að kynnast gögnunum örlítið og æfa okkur í að finna næsta granna. Gögnin má lesa inn og skoða gróflega með:"
   ]
  },
  {
   "cell_type": "code",
   "execution_count": 6,
   "metadata": {},
   "outputs": [
    {
     "name": "stdout",
     "output_type": "stream",
     "text": [
      "Fjöldi orða:   1000\n",
      "Fjöldi greina: 300\n",
      "Stærð fylkis:  (300, 1000)\n",
      "['A Bar at the Folies-Bergère' 'Baroclinity' 'Complementary colors'\n",
      " 'Effect of sun angle on climate' 'Frequency-shift keying'\n",
      " 'Ice accretion indicator' 'International Trade Centre'\n",
      " 'Luncheon of the Boating Party' 'Neo-impressionism' 'Plant'\n",
      " 'Precipitation' 'Space weather' 'Transmitter'\n",
      " 'United Nations Industrial Development Organization' 'Weather map']\n",
      "['wet' 'white' 'wide' 'widely' 'wind' 'winds' 'winter' 'wire' 'wireless'\n",
      " 'women' 'working' 'works' 'worldwide' 'wrote' 'wto' 'year' 'yellow'\n",
      " 'york' 'young' 'zero']\n",
      "[[0.000 0.000 0.000 0.000 0.000 0.000 0.000 0.000]\n",
      " [0.000 0.017 0.000 0.000 0.000 0.000 0.000 0.012]\n",
      " [0.000 0.012 0.000 0.005 0.000 0.015 0.000 0.006]\n",
      " [0.000 0.000 0.032 0.000 0.000 0.000 0.000 0.039]\n",
      " [0.000 0.019 0.034 0.000 0.000 0.000 0.000 0.000]\n",
      " [0.000 0.000 0.000 0.000 0.000 0.000 0.000 0.000]\n",
      " [0.000 0.000 0.000 0.000 0.000 0.000 0.000 0.000]\n",
      " [0.000 0.025 0.000 0.000 0.000 0.000 0.012 0.000]\n",
      " [0.000 0.003 0.012 0.007 0.000 0.002 0.000 0.000]]\n",
      "||x0 - x1|| = 1.404\n",
      "Algengustu orð í grein 0: ['painted' 'according' 'frame' 'film' 'appears' 'painter' 'right' 'artist'\n",
      " 'painting' 'manet']\n"
     ]
    },
    {
     "data": {
      "text/plain": [
       "4.963669121768596"
      ]
     },
     "execution_count": 6,
     "metadata": {},
     "output_type": "execute_result"
    }
   ],
   "source": [
    "np.set_printoptions(precision=3)\n",
    "data = np.load('wikitíðni.npz')\n",
    "orð = data[\"dictionary\"]\n",
    "greinar = data[\"article_titles\"]\n",
    "tíðni = data[\"article_histograms\"]\n",
    "\n",
    "disp('Fjöldi orða:  ', len(orð))\n",
    "disp('Fjöldi greina:', len(greinar))\n",
    "disp('Stærð fylkis: ', np.shape(tíðni))\n",
    "disp(greinar[::20])    # tuttugasta hver grein\n",
    "disp(orð[-20:])        # síðustu tuttugu orðin\n",
    "disp(tíðni[:9,:8])     # tíðni fyrstu 9 orðanna í fyrstu 10 greinunum\n",
    "x0 = tíðni[0]          # 1000-staka vigur með orðtíðni í fyrstu greininni\n",
    "x1 = tíðni[1]          # 1000-staka vigur með orðtíðni í annarri greininni\n",
    "s = sum(tíðni,0)       # 1000-staka vigur með summu staka í hverjum dálki fylkisins\n",
    "I = np.argsort(x0)     # númer orða í fyrstu greininni í röð ef eftir algengi\n",
    "disp('||x0 - x1|| =', la.norm(x0-x1))   # fjarlægð milli x0 og x1\n",
    "disp('Algengustu orð í grein 0:', orð[I[-10:]])\n",
    "sum(x0)"
   ]
  },
  {
   "cell_type": "markdown",
   "metadata": {},
   "source": [
    "**a)** Skrifið út síðustu 20 greinarnar og 20. hvert orð<br>\n",
    "**b)** Um hvað er grein númer 0?<br>\n",
    "**c)** Finnið titil greinarinnar sem er næst grein 0 (*nearest neighbour*) ef við mælum fjarlægð með normi af mismun milli orðtíðnivigra (gildir 2 stig).<br>\n",
    "**d)** Finnið þau 10 orð sem hafa hæstu samanlagða tíðnina (notið `np.argsort` og vigurinn `s`)<br>\n",
    "**e)** Notið `plt.spy` með `figsize=(1,5)` til að skoða fylkið `tíðni`."
   ]
  },
  {
   "cell_type": "code",
   "execution_count": 4,
   "metadata": {},
   "outputs": [
    {
     "name": "stdout",
     "output_type": "stream",
     "text": [
      "Help on function spy in module matplotlib.pyplot:\n",
      "\n",
      "spy(Z, precision=0, marker=None, markersize=None, aspect='equal', origin='upper', **kwargs)\n",
      "    Plot the sparsity pattern of a 2D array.\n",
      "    \n",
      "    This visualizes the non-zero values of the array.\n",
      "    \n",
      "    Two plotting styles are available: image and marker. Both\n",
      "    are available for full arrays, but only the marker style\n",
      "    works for `scipy.sparse.spmatrix` instances.\n",
      "    \n",
      "    **Image style**\n",
      "    \n",
      "    If *marker* and *markersize* are *None*, `~.Axes.imshow` is used. Any\n",
      "    extra remaining kwargs are passed to this method.\n",
      "    \n",
      "    **Marker style**\n",
      "    \n",
      "    If *Z* is a `scipy.sparse.spmatrix` or *marker* or *markersize* are\n",
      "    *None*, a `~matplotlib.lines.Line2D` object will be returned with\n",
      "    the value of marker determining the marker type, and any\n",
      "    remaining kwargs passed to `~.Axes.plot`.\n",
      "    \n",
      "    Parameters\n",
      "    ----------\n",
      "    Z : array-like (M, N)\n",
      "        The array to be plotted.\n",
      "    \n",
      "    precision : float or 'present', optional, default: 0\n",
      "        If *precision* is 0, any non-zero value will be plotted. Otherwise,\n",
      "        values of :math:`|Z| > precision` will be plotted.\n",
      "    \n",
      "        For :class:`scipy.sparse.spmatrix` instances, you can also\n",
      "        pass 'present'. In this case any value present in the array\n",
      "        will be plotted, even if it is identically zero.\n",
      "    \n",
      "    origin : {'upper', 'lower'}, optional\n",
      "        Place the [0,0] index of the array in the upper left or lower left\n",
      "        corner of the axes. The convention 'upper' is typically used for\n",
      "        matrices and images.\n",
      "        If not given, :rc:`image.origin` is used, defaulting to 'upper'.\n",
      "    \n",
      "    \n",
      "    aspect : {'equal', 'auto', None} or float, optional\n",
      "        Controls the aspect ratio of the axes. The aspect is of particular\n",
      "        relevance for images since it may distort the image, i.e. pixel\n",
      "        will not be square.\n",
      "    \n",
      "        This parameter is a shortcut for explicitly calling\n",
      "        `.Axes.set_aspect`. See there for further details.\n",
      "    \n",
      "        - 'equal': Ensures an aspect ratio of 1. Pixels will be square.\n",
      "        - 'auto': The axes is kept fixed and the aspect is adjusted so\n",
      "          that the data fit in the axes. In general, this will result in\n",
      "          non-square pixels.\n",
      "        - *None*: Use :rc:`image.aspect` (default: 'equal').\n",
      "    \n",
      "        Default: 'equal'\n",
      "    \n",
      "    Returns\n",
      "    -------\n",
      "    ret : `~matplotlib.image.AxesImage` or `.Line2D`\n",
      "        The return type depends on the plotting style (see above).\n",
      "    \n",
      "    Other Parameters\n",
      "    ----------------\n",
      "    **kwargs\n",
      "        The supported additional parameters depend on the plotting style.\n",
      "    \n",
      "        For the image style, you can pass the following additional\n",
      "        parameters of `~.Axes.imshow`:\n",
      "    \n",
      "        - *cmap*\n",
      "        - *alpha*\n",
      "        - *url*\n",
      "        - any `.Artist` properties (passed on to the `.AxesImage`)\n",
      "    \n",
      "        For the marker style, you can pass any `.Line2D` property except\n",
      "        for *linestyle*:\n",
      "    \n",
      "          agg_filter: a filter function, which takes a (m, n, 3) float array and a dpi value, and returns a (m, n, 3) array \n",
      "      alpha: float\n",
      "      animated: bool\n",
      "      antialiased: bool\n",
      "      clip_box: `.Bbox`\n",
      "      clip_on: bool\n",
      "      clip_path: [(`~matplotlib.path.Path`, `.Transform`) | `.Patch` | None] \n",
      "      color: color\n",
      "      contains: callable\n",
      "      dash_capstyle: {'butt', 'round', 'projecting'}\n",
      "      dash_joinstyle: {'miter', 'round', 'bevel'}\n",
      "      dashes: sequence of floats (on/off ink in points) or (None, None)\n",
      "      drawstyle: {'default', 'steps', 'steps-pre', 'steps-mid', 'steps-post'}\n",
      "      figure: `.Figure`\n",
      "      fillstyle: {'full', 'left', 'right', 'bottom', 'top', 'none'}\n",
      "      gid: str\n",
      "      in_layout: bool\n",
      "      label: object\n",
      "      linestyle: {'-', '--', '-.', ':', '', (offset, on-off-seq), ...}\n",
      "      linewidth: float\n",
      "      marker: unknown\n",
      "      markeredgecolor: color\n",
      "      markeredgewidth: float\n",
      "      markerfacecolor: color\n",
      "      markerfacecoloralt: color\n",
      "      markersize: float\n",
      "      markevery: unknown\n",
      "      path_effects: `.AbstractPathEffect`\n",
      "      picker: float or callable[[Artist, Event], Tuple[bool, dict]]\n",
      "      pickradius: float\n",
      "      rasterized: bool or None\n",
      "      sketch_params: (scale: float, length: float, randomness: float) \n",
      "      snap: bool or None\n",
      "      solid_capstyle: {'butt', 'round', 'projecting'}\n",
      "      solid_joinstyle: {'miter', 'round', 'bevel'}\n",
      "      transform: matplotlib.transforms.Transform\n",
      "      url: str\n",
      "      visible: bool\n",
      "      xdata: 1D array\n",
      "      ydata: 1D array\n",
      "      zorder: float\n",
      "\n"
     ]
    }
   ],
   "source": [
    "help(plt.spy)"
   ]
  }
 ],
 "metadata": {
  "kernelspec": {
   "display_name": "Python 3",
   "language": "python",
   "name": "python3"
  },
  "language_info": {
   "codemirror_mode": {
    "name": "ipython",
    "version": 3
   },
   "file_extension": ".py",
   "mimetype": "text/x-python",
   "name": "python",
   "nbconvert_exporter": "python",
   "pygments_lexer": "ipython3",
   "version": "3.6.8"
  }
 },
 "nbformat": 4,
 "nbformat_minor": 2
}
