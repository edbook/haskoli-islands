{
 "cells": [
  {
   "cell_type": "markdown",
   "metadata": {},
   "source": [
    "# **Kynning á NumPy:**\n",
    "\n",
    "### Listum breytt í fylki með np.array, útprentun fylkja og eiginleika þeirra"
   ]
  },
  {
   "cell_type": "code",
   "execution_count": 51,
   "metadata": {},
   "outputs": [
    {
     "name": "stdout",
     "output_type": "stream",
     "text": [
      "v = [0.000 2.000]\n",
      "A =\n",
      "[[2.000 3.000 4.000]\n",
      " [4.000 5.000 6.000]]\n",
      "ndim=2, shape=(2, 3)\n"
     ]
    }
   ],
   "source": [
    "# R1\n",
    "import numpy as np  # Python forrit sem notar numpy skammstafar það np skv. hefð\n",
    "v = np.array([0., 2.])\n",
    "A = np.array([[2., 3., 4.], [4., 5., 6.]])\n",
    "print('v =', v)\n",
    "print('A ='); print(A)\n",
    "print(f'ndim={A.ndim}, shape={A.shape}')"
   ]
  },
  {
   "cell_type": "markdown",
   "metadata": {},
   "source": [
    "**Ath.** Því miður henta f-strengir ekki vel til að prenta út fylki, t.d. er\n",
    "ekki hægt að tilgreina fjölda aukastafa: ``print(f'A = {A:.3f}')``\n",
    "gefur villu."
   ]
  },
  {
   "cell_type": "markdown",
   "metadata": {},
   "source": [
    "***Æfing:***\n",
    "1. Prófið ``print('A =', A)`` og líka ``print(f'A =\\n{A}')``\n",
    "2. Prentið líka út `A.size` og `A.dtype`\n",
    "3. Búið til vigur `x = [3,4,5]` og prentið hann út bæði með print og\n",
    "   með display. Skoðið x.dtype.\n",
    "4. Endurtakið lið 3 með `x = [3.,4,5]` (niðurstaðan skýrist af því að\n",
    "   öll stök NumPy vigurs eru alltaf með sama gagnatag).\n",
    "\n",
    "### Föll til að búa til fylki"
   ]
  },
  {
   "cell_type": "code",
   "execution_count": 60,
   "metadata": {},
   "outputs": [
    {
     "name": "stdout",
     "output_type": "stream",
     "text": [
      "[[0. 0.]\n",
      " [0. 0.]]\n",
      "[[1. 1.]\n",
      " [1. 1.]]\n",
      "[[3.14159 3.14159 3.14159 3.14159 3.14159]\n",
      " [3.14159 3.14159 3.14159 3.14159 3.14159]\n",
      " [3.14159 3.14159 3.14159 3.14159 3.14159]]\n",
      "[[1. 0.]\n",
      " [0. 1.]]\n",
      "z = [0. 0. 0.], e = [1. 1. 1. 1.]\n",
      "k = [ 1  2  3  4  5  6  7  8  9 10], dtype=int64\n",
      "h = [0.  0.5 1.  1.5 2.  2.5 3. ], dtype=float64\n"
     ]
    }
   ],
   "source": [
    "# R2\n",
    "Z = np.zeros((2,2))   # Hefð að nota stóra stafi fyrir fylki\n",
    "E = np.ones((2,2))\n",
    "F = np.full((3,5), 3.14159)\n",
    "I = np.eye(2)\n",
    "z = np.zeros(3)       # og litla stafi fyrir vigra\n",
    "e = np.ones(4)       \n",
    "k = np.arange(1,11)\n",
    "h = np.linspace(0,3,7)\n",
    "print(Z); print(E); print(F); print(I)\n",
    "print(f'z = {z}, e = {e}'); \n",
    "print(f'k = {k}, dtype={k.dtype}')\n",
    "print(f'h = {h}, dtype={h.dtype}')"
   ]
  },
  {
   "cell_type": "markdown",
   "metadata": {},
   "source": [
    "***Æfing:***\n",
    "1. Stikinn í zeros verður að vera par: Prófið að kalla á ``np.zeros(2,2)``\n",
    "2. Búið til $2 \\times 3$ núllfylki og $3 \\times 3$ fylki með 7.5 í öllum sætum.\n",
    "3. Notið `np.linspace` til að búa til vigurinn $(1, 1.5, 2, 2.5,\\ldots, 8)$\n",
    "\n",
    "### Hægt er að stilla fjölda aukastafa o.fl. í útskrift:"
   ]
  },
  {
   "cell_type": "code",
   "execution_count": 3,
   "metadata": {},
   "outputs": [
    {
     "name": "stdout",
     "output_type": "stream",
     "text": [
      "A = \n",
      "[[3.14 3.14 3.14 3.14 3.14]\n",
      " [3.14 3.14 3.14 3.14 3.14]\n",
      " [3.14 3.14 3.14 3.14 3.14]]\n"
     ]
    }
   ],
   "source": [
    "# R3  \n",
    "np.set_printoptions(precision=2, floatmode='fixed', suppress=True)\n",
    "A = np.full((3,5), 3.14159)\n",
    "print('A = '); print(A)\n",
    "\n",
    "# Stillt aftur á sjálfgefna útskrift:\n",
    "# np.set_printoptions(precision=8, floatmode='unique', \n",
    "#                     suppress=False) # reset to default"
   ]
  },
  {
   "cell_type": "markdown",
   "metadata": {},
   "source": [
    "***Æfing:***\n",
    "\n",
    "Keyrið reit R3 og svo reit R2 aftur\n",
    "\n",
    "### Slembifylki"
   ]
  },
  {
   "cell_type": "code",
   "execution_count": 20,
   "metadata": {},
   "outputs": [
    {
     "name": "stdout",
     "output_type": "stream",
     "text": [
      "i = 0\n",
      "[[0.37 0.65]\n",
      " [0.10 0.51]]\n",
      "i = 1\n",
      "[[0.18 0.04]\n",
      " [0.71 0.98]]\n",
      "i = 2\n",
      "[[0.83 0.41]\n",
      " [0.30 0.58]]\n",
      "i = 3\n",
      "[[0.65 0.78]\n",
      " [0.68 0.81]]\n"
     ]
    }
   ],
   "source": [
    "# R4\n",
    "import numpy.random as npr\n",
    "for i in range(4):\n",
    "    A = npr.random((2,2))  # tekur inn par, gefur 2 x 2 slembifylki\n",
    "    print(f'i = {i}')\n",
    "    print(A)"
   ]
  },
  {
   "cell_type": "code",
   "execution_count": 55,
   "metadata": {},
   "outputs": [
    {
     "data": {
      "text/plain": [
       "array([0., 0., 0.])"
      ]
     },
     "execution_count": 55,
     "metadata": {},
     "output_type": "execute_result"
    }
   ],
   "source": [
    "import numpy as np\n",
    "b = np.loadtxt('http://cs.hi.is/strei/e.txt', usecols=(0,2,3), delimiter=',').T\n",
    "b\n",
    "x = np.array([1,2,3])\n",
    "x = np.array([(1,2,3),(5,7,9)])\n",
    "x = np.zeros(3)\n",
    "x"
   ]
  },
  {
   "cell_type": "markdown",
   "metadata": {},
   "source": [
    "***Æfing:***\n",
    "\n",
    "Keyrið reit R4 aftur og aftur\n",
    "\n",
    "### Vigurreikningar"
   ]
  },
  {
   "cell_type": "code",
   "execution_count": 4,
   "metadata": {},
   "outputs": [
    {
     "name": "stdout",
     "output_type": "stream",
     "text": [
      "[2.00 3.00 5.00] [1 4 9] 14\n",
      "[[ 4.00  9.00]\n",
      " [16.00 25.00]]\n",
      "[[  7.39  20.09]\n",
      " [ 54.60 148.41]]\n",
      "s=[1.00 1.41 1.73]\n"
     ]
    }
   ],
   "source": [
    "# R5\n",
    "import numpy as np\n",
    "A = np.array([[2., 3.], [4., 5.]])\n",
    "x = np.array([1,   2,   3  ])\n",
    "y = np.array([1.0, 1.0, 2.0])\n",
    "z = x + y          # tilsvarandi stök lögð saman\n",
    "v = x*x            # tilsvarandi stök margfölduð saman\n",
    "C = A*A            # - líka í fylkjum\n",
    "d = x @ x          # innfeldi (skalarmargfeldi)\n",
    "s = np.sqrt(x)     # tekur kvaðratrót af hverju staki\n",
    "E = np.exp(A)      # og exp (líka til np.sin, np.log o.s.frv.)\n",
    "print(z,v,d)       # innfeldið er talan 1*1 + 2*1 + 3*2 = 14\n",
    "print(f'{C}\\n{E}') # \\n fer á nýja línu\n",
    "print(f's={s}')"
   ]
  },
  {
   "cell_type": "code",
   "execution_count": 7,
   "metadata": {},
   "outputs": [
    {
     "data": {
      "text/plain": [
       "(8, 8)"
      ]
     },
     "execution_count": 7,
     "metadata": {},
     "output_type": "execute_result"
    }
   ],
   "source": [
    "x = np.array([1,3,4])\n",
    "np.sum(x), x.sum()"
   ]
  },
  {
   "cell_type": "code",
   "execution_count": 17,
   "metadata": {},
   "outputs": [
    {
     "name": "stdout",
     "output_type": "stream",
     "text": [
      "[[1.00 4.00]\n",
      " [2.00 5.00]\n",
      " [3.00 6.00]]\n",
      "[1.00 4.00] [2.00 5.00] [3.00 6.00]\n",
      "[1.00 2.00 3.00] [4.00 5.00 6.00]\n"
     ]
    }
   ],
   "source": [
    "url = 'http://cs.hi.is/strei/a.txt'  #\n",
    "A = np.loadtxt(url)\n",
    "A, A.min(), A.max()\n",
    "a,b,c = np.loadtxt(url)\n",
    "print(A)\n",
    "print(a,b,c)\n",
    "x,y = np.loadtxt(url).T\n",
    "print(x,y)"
   ]
  },
  {
   "cell_type": "code",
   "execution_count": 19,
   "metadata": {},
   "outputs": [
    {
     "name": "stdout",
     "output_type": "stream",
     "text": [
      "[2015 2016 2017 2018]\n",
      "[3 5]\n",
      "[2 3]\n",
      "[ True  True False False] [2015 2016] [2 3]\n"
     ]
    }
   ],
   "source": [
    "ár = np.arange(2015,2019)\n",
    "p = np.array([2,3,5,7])\n",
    "I = [False, True, True, False]\n",
    "J = ár < 2017\n",
    "print(ár)\n",
    "print(p[I])\n",
    "print(p[ár < 2017])\n",
    "print(J, ár[J], p[J])"
   ]
  },
  {
   "cell_type": "markdown",
   "metadata": {},
   "source": [
    "***Æfing:***\n",
    "\n",
    "Prófið fleiri aðgerðir (mínus, deilingu, margföldun fylkis og tölu)"
   ]
  },
  {
   "cell_type": "code",
   "execution_count": 24,
   "metadata": {},
   "outputs": [
    {
     "name": "stdout",
     "output_type": "stream",
     "text": [
      "[[0.90 0.39 0.98 0.08 0.57 0.33]\n",
      " [0.92 0.74 0.31 0.04 0.85 0.54]\n",
      " [0.65 0.47 0.86 0.76 0.33 0.27]\n",
      " [0.06 0.18 0.81 0.76 0.25 0.47]\n",
      " [0.73 0.93 0.98 0.77 0.97 0.24]\n",
      " [0.45 0.47 0.28 0.45 0.17 0.65]]\n",
      "[[0.31 0.04 0.85]\n",
      " [0.86 0.76 0.33]\n",
      " [0.81 0.76 0.25]]\n"
     ]
    }
   ],
   "source": [
    "#A = npr.random((6,6))\n",
    "A\n",
    "B = A[1:4,2:5]\n",
    "print(A); print(B)"
   ]
  },
  {
   "cell_type": "code",
   "execution_count": 31,
   "metadata": {},
   "outputs": [
    {
     "name": "stdout",
     "output_type": "stream",
     "text": [
      "n=196259\n"
     ]
    },
    {
     "data": {
      "text/html": [
       "<style  type=\"text/css\" >\n",
       "</style><table id=\"T_4130a116_6160_11eb_83d6_acde48001122\" ><thead>    <tr>        <th class=\"blank level0\" ></th>        <th class=\"col_heading level0 col0\" >Listi</th>        <th class=\"col_heading level0 col1\" >Atkvæði</th>        <th class=\"col_heading level0 col2\" >Þingsæti</th>        <th class=\"col_heading level0 col3\" >Hlutf</th>        <th class=\"col_heading level0 col4\" >Atkv-sætis</th>    </tr></thead><tbody>\n",
       "                <tr>\n",
       "                        <th id=\"T_4130a116_6160_11eb_83d6_acde48001122level0_row0\" class=\"row_heading level0 row0\" >0</th>\n",
       "                        <td id=\"T_4130a116_6160_11eb_83d6_acde48001122row0_col0\" class=\"data row0 col0\" >Björt framtíð</td>\n",
       "                        <td id=\"T_4130a116_6160_11eb_83d6_acde48001122row0_col1\" class=\"data row0 col1\" >2394</td>\n",
       "                        <td id=\"T_4130a116_6160_11eb_83d6_acde48001122row0_col2\" class=\"data row0 col2\" >0</td>\n",
       "                        <td id=\"T_4130a116_6160_11eb_83d6_acde48001122row0_col3\" class=\"data row0 col3\" >1.2%</td>\n",
       "                        <td id=\"T_4130a116_6160_11eb_83d6_acde48001122row0_col4\" class=\"data row0 col4\" >inf</td>\n",
       "            </tr>\n",
       "            <tr>\n",
       "                        <th id=\"T_4130a116_6160_11eb_83d6_acde48001122level0_row1\" class=\"row_heading level0 row1\" >1</th>\n",
       "                        <td id=\"T_4130a116_6160_11eb_83d6_acde48001122row1_col0\" class=\"data row1 col0\" >Framsóknarflokkur</td>\n",
       "                        <td id=\"T_4130a116_6160_11eb_83d6_acde48001122row1_col1\" class=\"data row1 col1\" >21017</td>\n",
       "                        <td id=\"T_4130a116_6160_11eb_83d6_acde48001122row1_col2\" class=\"data row1 col2\" >8</td>\n",
       "                        <td id=\"T_4130a116_6160_11eb_83d6_acde48001122row1_col3\" class=\"data row1 col3\" >10.7%</td>\n",
       "                        <td id=\"T_4130a116_6160_11eb_83d6_acde48001122row1_col4\" class=\"data row1 col4\" >2627</td>\n",
       "            </tr>\n",
       "            <tr>\n",
       "                        <th id=\"T_4130a116_6160_11eb_83d6_acde48001122level0_row2\" class=\"row_heading level0 row2\" >2</th>\n",
       "                        <td id=\"T_4130a116_6160_11eb_83d6_acde48001122row2_col0\" class=\"data row2 col0\" >Viðreisn</td>\n",
       "                        <td id=\"T_4130a116_6160_11eb_83d6_acde48001122row2_col1\" class=\"data row2 col1\" >13122</td>\n",
       "                        <td id=\"T_4130a116_6160_11eb_83d6_acde48001122row2_col2\" class=\"data row2 col2\" >4</td>\n",
       "                        <td id=\"T_4130a116_6160_11eb_83d6_acde48001122row2_col3\" class=\"data row2 col3\" >6.7%</td>\n",
       "                        <td id=\"T_4130a116_6160_11eb_83d6_acde48001122row2_col4\" class=\"data row2 col4\" >3280</td>\n",
       "            </tr>\n",
       "            <tr>\n",
       "                        <th id=\"T_4130a116_6160_11eb_83d6_acde48001122level0_row3\" class=\"row_heading level0 row3\" >3</th>\n",
       "                        <td id=\"T_4130a116_6160_11eb_83d6_acde48001122row3_col0\" class=\"data row3 col0\" >Sjálfstæðisflokkur</td>\n",
       "                        <td id=\"T_4130a116_6160_11eb_83d6_acde48001122row3_col1\" class=\"data row3 col1\" >49548</td>\n",
       "                        <td id=\"T_4130a116_6160_11eb_83d6_acde48001122row3_col2\" class=\"data row3 col2\" >16</td>\n",
       "                        <td id=\"T_4130a116_6160_11eb_83d6_acde48001122row3_col3\" class=\"data row3 col3\" >25.2%</td>\n",
       "                        <td id=\"T_4130a116_6160_11eb_83d6_acde48001122row3_col4\" class=\"data row3 col4\" >3097</td>\n",
       "            </tr>\n",
       "            <tr>\n",
       "                        <th id=\"T_4130a116_6160_11eb_83d6_acde48001122level0_row4\" class=\"row_heading level0 row4\" >4</th>\n",
       "                        <td id=\"T_4130a116_6160_11eb_83d6_acde48001122row4_col0\" class=\"data row4 col0\" >Flokkur fólksins</td>\n",
       "                        <td id=\"T_4130a116_6160_11eb_83d6_acde48001122row4_col1\" class=\"data row4 col1\" >13502</td>\n",
       "                        <td id=\"T_4130a116_6160_11eb_83d6_acde48001122row4_col2\" class=\"data row4 col2\" >4</td>\n",
       "                        <td id=\"T_4130a116_6160_11eb_83d6_acde48001122row4_col3\" class=\"data row4 col3\" >6.9%</td>\n",
       "                        <td id=\"T_4130a116_6160_11eb_83d6_acde48001122row4_col4\" class=\"data row4 col4\" >3376</td>\n",
       "            </tr>\n",
       "            <tr>\n",
       "                        <th id=\"T_4130a116_6160_11eb_83d6_acde48001122level0_row5\" class=\"row_heading level0 row5\" >5</th>\n",
       "                        <td id=\"T_4130a116_6160_11eb_83d6_acde48001122row5_col0\" class=\"data row5 col0\" >Miðflokkurinn</td>\n",
       "                        <td id=\"T_4130a116_6160_11eb_83d6_acde48001122row5_col1\" class=\"data row5 col1\" >21337</td>\n",
       "                        <td id=\"T_4130a116_6160_11eb_83d6_acde48001122row5_col2\" class=\"data row5 col2\" >7</td>\n",
       "                        <td id=\"T_4130a116_6160_11eb_83d6_acde48001122row5_col3\" class=\"data row5 col3\" >10.9%</td>\n",
       "                        <td id=\"T_4130a116_6160_11eb_83d6_acde48001122row5_col4\" class=\"data row5 col4\" >3048</td>\n",
       "            </tr>\n",
       "            <tr>\n",
       "                        <th id=\"T_4130a116_6160_11eb_83d6_acde48001122level0_row6\" class=\"row_heading level0 row6\" >6</th>\n",
       "                        <td id=\"T_4130a116_6160_11eb_83d6_acde48001122row6_col0\" class=\"data row6 col0\" >Píratar</td>\n",
       "                        <td id=\"T_4130a116_6160_11eb_83d6_acde48001122row6_col1\" class=\"data row6 col1\" >18053</td>\n",
       "                        <td id=\"T_4130a116_6160_11eb_83d6_acde48001122row6_col2\" class=\"data row6 col2\" >6</td>\n",
       "                        <td id=\"T_4130a116_6160_11eb_83d6_acde48001122row6_col3\" class=\"data row6 col3\" >9.2%</td>\n",
       "                        <td id=\"T_4130a116_6160_11eb_83d6_acde48001122row6_col4\" class=\"data row6 col4\" >3009</td>\n",
       "            </tr>\n",
       "            <tr>\n",
       "                        <th id=\"T_4130a116_6160_11eb_83d6_acde48001122level0_row7\" class=\"row_heading level0 row7\" >7</th>\n",
       "                        <td id=\"T_4130a116_6160_11eb_83d6_acde48001122row7_col0\" class=\"data row7 col0\" >Alþýðufylkingin</td>\n",
       "                        <td id=\"T_4130a116_6160_11eb_83d6_acde48001122row7_col1\" class=\"data row7 col1\" >375</td>\n",
       "                        <td id=\"T_4130a116_6160_11eb_83d6_acde48001122row7_col2\" class=\"data row7 col2\" >0</td>\n",
       "                        <td id=\"T_4130a116_6160_11eb_83d6_acde48001122row7_col3\" class=\"data row7 col3\" >0.2%</td>\n",
       "                        <td id=\"T_4130a116_6160_11eb_83d6_acde48001122row7_col4\" class=\"data row7 col4\" >inf</td>\n",
       "            </tr>\n",
       "            <tr>\n",
       "                        <th id=\"T_4130a116_6160_11eb_83d6_acde48001122level0_row8\" class=\"row_heading level0 row8\" >8</th>\n",
       "                        <td id=\"T_4130a116_6160_11eb_83d6_acde48001122row8_col0\" class=\"data row8 col0\" >Samfylkingin</td>\n",
       "                        <td id=\"T_4130a116_6160_11eb_83d6_acde48001122row8_col1\" class=\"data row8 col1\" >23654</td>\n",
       "                        <td id=\"T_4130a116_6160_11eb_83d6_acde48001122row8_col2\" class=\"data row8 col2\" >7</td>\n",
       "                        <td id=\"T_4130a116_6160_11eb_83d6_acde48001122row8_col3\" class=\"data row8 col3\" >12.1%</td>\n",
       "                        <td id=\"T_4130a116_6160_11eb_83d6_acde48001122row8_col4\" class=\"data row8 col4\" >3379</td>\n",
       "            </tr>\n",
       "            <tr>\n",
       "                        <th id=\"T_4130a116_6160_11eb_83d6_acde48001122level0_row9\" class=\"row_heading level0 row9\" >9</th>\n",
       "                        <td id=\"T_4130a116_6160_11eb_83d6_acde48001122row9_col0\" class=\"data row9 col0\" >Dögun</td>\n",
       "                        <td id=\"T_4130a116_6160_11eb_83d6_acde48001122row9_col1\" class=\"data row9 col1\" >101</td>\n",
       "                        <td id=\"T_4130a116_6160_11eb_83d6_acde48001122row9_col2\" class=\"data row9 col2\" >0</td>\n",
       "                        <td id=\"T_4130a116_6160_11eb_83d6_acde48001122row9_col3\" class=\"data row9 col3\" >0.1%</td>\n",
       "                        <td id=\"T_4130a116_6160_11eb_83d6_acde48001122row9_col4\" class=\"data row9 col4\" >inf</td>\n",
       "            </tr>\n",
       "            <tr>\n",
       "                        <th id=\"T_4130a116_6160_11eb_83d6_acde48001122level0_row10\" class=\"row_heading level0 row10\" >10</th>\n",
       "                        <td id=\"T_4130a116_6160_11eb_83d6_acde48001122row10_col0\" class=\"data row10 col0\" >Vinstri græn</td>\n",
       "                        <td id=\"T_4130a116_6160_11eb_83d6_acde48001122row10_col1\" class=\"data row10 col1\" >33156</td>\n",
       "                        <td id=\"T_4130a116_6160_11eb_83d6_acde48001122row10_col2\" class=\"data row10 col2\" >11</td>\n",
       "                        <td id=\"T_4130a116_6160_11eb_83d6_acde48001122row10_col3\" class=\"data row10 col3\" >16.9%</td>\n",
       "                        <td id=\"T_4130a116_6160_11eb_83d6_acde48001122row10_col4\" class=\"data row10 col4\" >3014</td>\n",
       "            </tr>\n",
       "    </tbody></table>"
      ],
      "text/plain": [
       "<pandas.io.formats.style.Styler at 0x7f8eec7f0dc0>"
      ]
     },
     "metadata": {},
     "output_type": "display_data"
    }
   ],
   "source": [
    "import pandas as pd\n",
    "kosn = pd.read_excel(\"http://cs.hi.is/t1a/kosningar.xlsx\")\n",
    "#display(kosn)\n",
    "n = sum(kosn[\"Atkvæði\"])\n",
    "print(f'n={n}')\n",
    "kosn[\"Hlutf\"] = kosn[\"Atkvæði\"]/n\n",
    "# display(kosn)\n",
    "kosn[\"Atkv-sætis\"] = kosn[\"Atkvæði\"]/kosn[\"Þingsæti\"]\n",
    "display(kosn.style.format({\"Hlutf\": \"{:.1%}\", \"Atkv-sætis\": \"{:.0f}\"}))"
   ]
  },
  {
   "cell_type": "code",
   "execution_count": null,
   "metadata": {},
   "outputs": [],
   "source": [
    "import pandas as pd\n",
    "kosn = pd.read_excel(\"http://cs.hi.is/t1a/kosningar.xlsx\")\n",
    "display(kosn)\n",
    "n = sum(kosn.Atkvæði)\n",
    "kosn[\"Hlutf\"] = kosn.Atkvæði/n\n",
    "display(kosn)"
   ]
  }
 ],
 "metadata": {
  "kernelspec": {
   "display_name": "Python 3",
   "language": "python",
   "name": "python3"
  },
  "language_info": {
   "codemirror_mode": {
    "name": "ipython",
    "version": 3
   },
   "file_extension": ".py",
   "mimetype": "text/x-python",
   "name": "python",
   "nbconvert_exporter": "python",
   "pygments_lexer": "ipython3",
   "version": "3.8.5"
  }
 },
 "nbformat": 4,
 "nbformat_minor": 4
}
