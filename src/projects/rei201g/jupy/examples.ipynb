{
 "cells": [
  {
   "cell_type": "code",
   "execution_count": null,
   "metadata": {},
   "outputs": [],
   "source": [
    "x = range(1,7)\n",
    "h = 1+10*npr.random(6)\n",
    "plt.figure(figsize = (6,3)) # má sleppa, (6,4) er sjálfgefið\n",
    "# plt.axes(axisbelow=True)\n",
    "tl = ['A', 'B', 'C', 'F', 'E', 'F']\n",
    "plt.bar(x,h,tick_label = tl);\n",
    "plt.tick_params(axis='x', length=0)\n",
    "# plt.grid(axis='y')"
   ]
  }
 ],
 "metadata": {
  "kernelspec": {
   "display_name": "Python 3",
   "language": "python",
   "name": "python3"
  },
  "language_info": {
   "codemirror_mode": {
    "name": "ipython",
    "version": 3
   },
   "file_extension": ".py",
   "mimetype": "text/x-python",
   "name": "python",
   "nbconvert_exporter": "python",
   "pygments_lexer": "ipython3",
   "version": "3.7.1"
  }
 },
 "nbformat": 4,
 "nbformat_minor": 2
}
