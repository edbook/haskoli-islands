{
 "cells": [
  {
   "cell_type": "markdown",
   "metadata": {},
   "source": [
    "# Stærðfræði og reiknifræði, vor 2019\n",
    "## Námsefni til prófs\n",
    "\n",
    "Prófið verður haldið föstudaginn 3. maí kl. 13:30–15:30. Það er sem sé aðeins tvær klst. og nær ekki yfir allt námsefnið, því ég lít svo á að þið séuð búin að sýna fram á kunnáttu í bæði í NumPy og ýmsum flóknari Python-forritum í fyrirlestraræfingum, tímadæmum og skiladæmum.\n",
    "\n",
    "- Í eftirfarandi lista eru fyrirlestrarnótur (á cs.hi.is/strei) skammstafaðar með **Nótur**, Stanfordkennslubók (með athugasemdum Kristjáns, á Piazza) með **Stanf**, og tímadæmi, skiladæmi og fyrirlestraræfingar með **T, S** og **F** (öll á Piazza). \n",
    "\n",
    "- Ath. að það getur verið þægilegra að hlaða niður lausnunum á html/pdf ef þið viljið bara lesa dæmin en ekki leysa þau aftur). \n",
    "\n",
    "- Með prófinu mun fylgja formúlublað m.a. með stærðfræðiformúlum og yfirliti yfir helstu Python-skipanir.\n",
    "\n",
    "- Bæði í fyrirlestrarnótunum og í athugasemdum KJ í Stanford-bók eru ýmsar æfingar sem ekki eru taldar sérstaklega að neðan en gætu verið gagnlegar.\n",
    "\n",
    "**Hér er svo listi yfir námsefni til prófs. Því sem ekki er hér með er sleppt.**\n",
    "\n",
    "1. Einföld Python forrit og reiknirit, sbr. Nótur-1.2&4–6 (þ.e. 1.2, 1.4, 1.5 og 1.6), T1, T2.1&2 (þ.e. dæmi 1 og 2 í T2), S2.2&3, S9.A2, S10C, T11A o.fl. Þið megið ráða hvort þið skrifið reiknirit (*pseudocode*), sjá t.d. T1.2, T1.4, og lausnir á S9A2, S10C o.fl.) eða Python forrit. Forrit þurfa ekki að vera hárnákvæm, t.d. verður ekki dregið frá ef það vantar tvípunkt eða `import math`.\n",
    "\n",
    "2. Minnstu kvaðrata nálgun (*least squares approximation, linear least squares*), jafna bestu línu, bestu parabólu og besta plans, sbr. Nótur-2.3.6, Stanf-2.3, F4B.2.4, T4:inngangur, S4.2.4&5, F7.3, T7.7, F8.3 og T8.2. Ath. að spurningarnar munu bara snúast um formúlur fyrir líkön (*models*) og föll sem eru lágmörkuð (*minimized*), en ekki Python-forrit til að leysa svona verkefni.\n",
    "\n",
    "3. Hlutafleiður (*partial derivatives*), stiglar (*gradients*) og notkun þeirra til að lágmarka föll sbr. Nótur-3, S5B.1&2\n",
    "\n",
    "4. Taylornálganir, sbr. Stanf-2.2, S6.3b, F7.2, T7.2\n",
    "\n",
    "5. Innfeldi (*inner product*), norm og horn milli vigra, sbr. Nótur-2.2.9, Stanf-1.4, Stanf-3:1,2,4, T6.1, T7.3, T7.6 (endurtekin í F8.1), S7.1, S9.A1&4\n",
    "\n",
    "6. Staðalfrávik (*standard deviation*), stöðlun (*standardization*) og dreifni (*variance*), sbr. Stanf-3.3, T7.4, T7.5, S9.A3\n",
    "\n",
    "7. Línulega háðir/óháðir (*dependent/independent*) vigrar og grunnar (*grunnur = basis*), sbr. Stanf-5.1&2, S9.B, S9C.1–3, F10\n",
    "\n",
    "8. Fylki (eininga- (*identity-*), núll-, hornalínu (*diagonal*) o.fl.), grannafylki (*adjacency matrix*), sbr. Stanf-6.1&2, mörg dæmi sér í lagi um grannafylki S12C.1b, T13.B \n",
    "\n",
    "9. Bylting (*transpose*) sbr. Nótur-2.2.7, Stanf-6.3.1.\n",
    "\n",
    "11. Margföldun fylkis og vigurs, speglunar- og snúningsfylki (*reflection and rotation matrices), sbr. Stanf-6.4, Stanf-7.1, Stanf-8.1, T10C, S10.B1, S11.B2, F11.2&4&6. Sjá líka Leslie-fylki og netflæði að neðan.\n",
    "\n",
    "12. Legufylki (*incidence matrix*) og netflæði (*network flow*) sbr. Stanf-7.3, S10.B, F11.8, S12.C, T13.A\n",
    "\n",
    "13. Jöfnuhneppi (*set of equations*) sbr. Stanf-8.3, F10, S10.2, S11.B1. Sjá líka dæmin um línulega óháða vigra að ofan.\n",
    "\n",
    "14. Hreyfikerfi (*dynamical systems*) og Leslie-fylki, sbr. Stanf-9.1–4, S11C.\n",
    "\n",
    "15. Fylkjamargföldun og Gram-fylki, sbr. Stanf-10.1–10.3, S12.B, S12.C"
   ]
  }
 ],
 "metadata": {
  "kernelspec": {
   "display_name": "Python 3",
   "language": "python",
   "name": "python3"
  },
  "language_info": {
   "codemirror_mode": {
    "name": "ipython",
    "version": 3
   },
   "file_extension": ".py",
   "mimetype": "text/x-python",
   "name": "python",
   "nbconvert_exporter": "python",
   "pygments_lexer": "ipython3",
   "version": "3.6.8"
  }
 },
 "nbformat": 4,
 "nbformat_minor": 2
}
