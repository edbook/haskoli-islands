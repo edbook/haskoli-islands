{
 "cells": [
  {
   "cell_type": "code",
   "execution_count": 2,
   "id": "94ff3965-0941-4293-abda-d0817b495548",
   "metadata": {},
   "outputs": [],
   "source": [
    "import matplotlib.pyplot as plt, numpy as np\n",
    "from numpy import sin, cos, radians, pi\n",
    "\n",
    "%reset_selective -f Flatarmynd\n",
    "\n",
    "class Flatarmynd:\n",
    "\n",
    "    ásar = None\n",
    "\n",
    "    def __init__(self, staðsetning, litur):\n",
    "        self.staðsetning = staðsetning\n",
    "        self.litur = litur\n",
    "        self._polygon = self.ásar.fill([], [], self.litur)[0]\n",
    "        self._teikna()\n",
    "\n",
    "    def breyta_stærð(self, margf):\n",
    "        # Margfalda allar stærðir með margf\n",
    "        pass\n",
    "    \n",
    "    @property\n",
    "    def flatarmál(self):\n",
    "        pass\n",
    "\n",
    "    def stroka_út(self):\n",
    "        self._polygon.set_xy(np.zeros((0,2)))\n",
    "\n",
    "    def _teikna(self):\n",
    "        P = self._útlínur()\n",
    "        self._polygon.set_xy(P.T)\n",
    "    \n",
    "    def _útlínur(self):\n",
    "        pass\n",
    "\n",
    "    @classmethod\n",
    "    def undirbúa(cls, figure):\n",
    "        ásar = figure.add_axes([0,0,1,1])\n",
    "        ásar.axis([0, 10, 0, 10])\n",
    "        cls.ásar = ásar  # klasabreyta fær gildi\n",
    "\n",
    "class Hringur(Flatarmynd):\n",
    "    def __init__(self, staðsetning, litur, geisli):\n",
    "        self.geisli = geisli\n",
    "        super().__init__(staðsetning, litur)\n",
    "\n",
    "    def breyta_stærð(self, margfaldari):\n",
    "        self.geisli *= margfaldari\n",
    "        self._teikna()\n",
    "\n",
    "    @property\n",
    "    def flatarmál(self):\n",
    "        return self.geisli**2 * pi\n",
    "        \n",
    "    def _útlínur(self):\n",
    "        a = np.linspace(0, 2*np.pi, 360)\n",
    "        r = self.geisli\n",
    "        (x,y) = self.staðsetning\n",
    "        X = x + r*np.cos(a)\n",
    "        Y = y + r*np.sin(a)\n",
    "        return np.array([X,Y])\n",
    "    \n",
    "class Rétthyrningur(Flatarmynd):\n",
    "    def __init__(self, staðsetning, litur, breidd, hæð):\n",
    "        self.breidd = breidd\n",
    "        self.hæð = hæð\n",
    "        self.stefna = 0\n",
    "        super().__init__(staðsetning, litur)\n",
    "\n",
    "    @property\n",
    "    def flatarmál(self):\n",
    "        return self.breidd * self.hæð\n",
    "        \n",
    "    def breyta_stærð(self, margfaldari):\n",
    "        self.breidd *= margfaldari\n",
    "        self.hæð *= margfaldari\n",
    "        self._teikna()\n",
    "\n",
    "    def snúa(self, gráður):\n",
    "        # Rangsælis\n",
    "        self.stefna += gráður\n",
    "        self._teikna()\n",
    "        \n",
    "    def _útlínur(self):\n",
    "        xy = np.expand_dims(self.staðsetning, 1)\n",
    "        (b, h) = (self.breidd, self.hæð)\n",
    "        s = np.radians(self.stefna)\n",
    "        snúningsfylki = np.array([[cos(s),-sin(s)], [sin(s),cos(s)]])\n",
    "        M = np.array([[-b, b, b, -b, -b], [-h, -h, h, h, -h]])/2\n",
    "        XY = snúningsfylki @ M\n",
    "        return xy + XY\n",
    "\n",
    "class Ferningur(Rétthyrningur):\n",
    "    def __init__(self, staðsetning, litur, breidd):\n",
    "        super().__init__(staðsetning, litur, breidd, breidd)"
   ]
  },
  {
   "cell_type": "code",
   "execution_count": 3,
   "id": "ca762e18-6c87-4bf4-a708-b52514f61d1a",
   "metadata": {},
   "outputs": [
    {
     "name": "stdout",
     "output_type": "stream",
     "text": [
      "Flatarmál hrings = 12.566\n"
     ]
    },
    {
     "data": {
      "image/png": "[encoded data removed]",
      "text/plain": [
       "<Figure size 300x300 with 1 Axes>"
      ]
     },
     "metadata": {},
     "output_type": "display_data"
    }
   ],
   "source": [
    "figure = plt.figure(figsize=(3,3))\n",
    "Flatarmynd.undirbúa(figure) \n",
    "R = Rétthyrningur((5,3), 'red', breidd=5, hæð=2)\n",
    "H = Hringur((3,7), 'blue', geisli=2)\n",
    "F = Ferningur((8,8), 'green', breidd=2)\n",
    "H.stroka_út()\n",
    "R.breyta_stærð(1.3)\n",
    "R.snúa(30)\n",
    "print(f'Flatarmál hrings = {H.flatarmál:.3f}')"
   ]
  },
  {
   "cell_type": "code",
   "execution_count": 4,
   "id": "db12634e-4217-41f2-b036-ec3b6ccd056c",
   "metadata": {},
   "outputs": [],
   "source": [
    "%matplotlib tk\n",
    "f = plt.figure(figsize=(4,4))"
   ]
  },
  {
   "cell_type": "code",
   "execution_count": 7,
   "id": "823c4c08-3207-4f4a-b5d6-3f6865c42daf",
   "metadata": {},
   "outputs": [],
   "source": [
    "Flatarmynd.undirbúa(f) \n",
    "R = Rétthyrningur((5,5), 'red', breidd=8, hæð=1)\n",
    "plt.show()\n",
    "for i in range(180):\n",
    "    plt.pause(0.01)\n",
    "    R.snúa(2)"
   ]
  },
  {
   "cell_type": "code",
   "execution_count": null,
   "id": "f02bbc8d-4f14-41f9-9a87-e486812c43e5",
   "metadata": {},
   "outputs": [],
   "source": []
  }
 ],
 "metadata": {
  "kernelspec": {
   "display_name": "Python 3 (ipykernel)",
   "language": "python",
   "name": "python3"
  },
  "language_info": {
   "codemirror_mode": {
    "name": "ipython",
    "version": 3
   },
   "file_extension": ".py",
   "mimetype": "text/x-python",
   "name": "python",
   "nbconvert_exporter": "python",
   "pygments_lexer": "ipython3",
   "version": "3.11.0"
  }
 },
 "nbformat": 4,
 "nbformat_minor": 5
}
