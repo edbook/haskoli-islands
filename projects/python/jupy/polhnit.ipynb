{
 "cells": [
  {
   "cell_type": "markdown",
   "metadata": {},
   "source": [
    "$$\n",
    "\\sqrt{x^2 + y^2}\n",
    "$$"
   ]
  },
  {
   "cell_type": "code",
   "execution_count": null,
   "metadata": {},
   "outputs": [],
   "source": [
    "# Breytt milli pólhnita og rétthyrndra hnita\n",
    "#\n",
    "# x,y = pol2rec(r,theta) skilar réttyrndum hnitum (x,y) fyrir pólhnitin (r,theta)\n",
    "# r,theta = rec2pol(x,y) skilar pólhnitun (r,theta) fyrir rétthyrndu hnitin (x,y)\n",
    "\n",
    "from math import pi, sin, cos, sqrt\n",
    "\n",
    "def pol2rec(r,theta):\n",
    "    x = r*sin(theta)\n",
    "    y = r*cos(theta)\n",
    "    return x,y\n",
    "    \n",
    "def rec2pol(x,y):\n",
    "    r = sqrt(x**2 + y**2)\n",
    "    theta = atan2(y,x)\n",
    "    return r,theta"
   ]
  }
 ],
 "metadata": {
  "kernelspec": {
   "display_name": "Python 3 (ipykernel)",
   "language": "python",
   "name": "python3"
  },
  "language_info": {
   "codemirror_mode": {
    "name": "ipython",
    "version": 3
   },
   "file_extension": ".py",
   "mimetype": "text/x-python",
   "name": "python",
   "nbconvert_exporter": "python",
   "pygments_lexer": "ipython3",
   "version": "3.11.3"
  }
 },
 "nbformat": 4,
 "nbformat_minor": 4
}
