{
 "cells": [
  {
   "cell_type": "code",
   "execution_count": 1,
   "id": "2e1e3f64-cc47-4308-8325-aa410a3ef9a3",
   "metadata": {},
   "outputs": [
    {
     "data": {
      "image/png": "[encoded data removed]",
      "text/plain": [
       "<Figure size 300x300 with 1 Axes>"
      ]
     },
     "metadata": {},
     "output_type": "display_data"
    }
   ],
   "source": [
    "import matplotlib.pyplot as plt\n",
    "from colorsys import rgb_to_hls, hls_to_rgb\n",
    "from matplotlib.colors import to_rgb\n",
    "\n",
    "class Pera:\n",
    "\n",
    "    ásar = None\n",
    "    perustærð = 40\n",
    "\n",
    "    def __init__(self, x, y, litur):  # x og y eru á bilinu [0, 5]\n",
    "                                      # litur er litanafn eða (r,g,b)\n",
    "       self.RGB = to_rgb(litur)    # (r,g,b)\n",
    "       self.birta = 50             # 50%\n",
    "       h = Pera.ásar.plot(x, y, 'o', c=litur, ms=Pera.perustærð)\n",
    "       self._mynd = h[0]           # litaður hringur sem táknar peruna\n",
    "\n",
    "    def stilla_birtu(self, birta):  # birta í prósentum\n",
    "       (r,g,b) = self.RGB\n",
    "       (hue, _, saturation) = rgb_to_hls(r, g, b)\n",
    "       self.birta = max(0, min(1, birta/100))\n",
    "       self._mynd.set_color(hls_to_rgb(hue, self.birta, saturation))\n",
    "\n",
    "    def breyta_lit(self, litur):\n",
    "       self.RGB = to_rgb(litur)\n",
    "       self.stilla_birtu(self.birta*100)\n",
    "\n",
    "    def skila_birtu(self):     # í prósentum\n",
    "       return self.birta*100\n",
    "\n",
    "    @classmethod\n",
    "    def undirbúa(cls, figure):\n",
    "        ásar = figure.add_axes([0, 0, 1, 1])  # hnitakerfi fyllir upp í mynd\n",
    "        ásar.axis([0, 5, 0, 5])               # 5x5 hnitakerfi\n",
    "        ásar.set_facecolor('black')\n",
    "        ásar.tick_params(length=0)\n",
    "        ásar.grid()\n",
    "        cls.ásar = ásar               # gefa klasabreytunni ásar gildi\n",
    "\n",
    "figure = plt.figure(figsize = (3,3))\n",
    "Pera.undirbúa(figure)\n",
    "p1 = Pera(1, 1, 'red')\n",
    "p2 = Pera(3, 4, 'green')\n",
    "p3 = Pera(4, 2, 'violet')\n",
    "p4 = Pera(2, 3, 'yellow')\n",
    "p1.stilla_birtu(30)\n",
    "p3.stilla_birtu(90)\n",
    "p1.breyta_lit('blue')\n"
   ]
  },
  {
   "cell_type": "code",
   "execution_count": 2,
   "id": "7ce5eedf-110d-4ce7-83eb-c8fc059900ee",
   "metadata": {},
   "outputs": [
    {
     "data": {
      "application/vnd.jupyter.widget-view+json": {
       "model_id": "3871307107004a1f9764b36b61757266",
       "version_major": 2,
       "version_minor": 0
      },
      "image/png": "[encoded data removed]",
      "text/html": [
       "\n",
       "            <div style=\"display: inline-block;\">\n",
       "                <div class=\"jupyter-widgets widget-label\" style=\"text-align: center;\">\n",
       "                    Figure\n",
       "                </div>\n",
       "                <img src='data:image/png;base64,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' width=300.0/>\n",
       "            </div>\n",
       "        "
      ],
      "text/plain": [
       "Canvas(toolbar=Toolbar(toolitems=[('Home', 'Reset original view', 'home', 'home'), ('Back', 'Back to previous …"
      ]
     },
     "metadata": {},
     "output_type": "display_data"
    }
   ],
   "source": [
    "%matplotlib widget\n",
    "\n",
    "def búa_til_sleða(p):\n",
    "    from matplotlib.widgets import Slider\n",
    "    def nota_dimmer(gildi):\n",
    "        p.stilla_birtu(gildi)\n",
    "    sleðaásar = plt.axes([0.1, 0.08, 0.8, 0.04], xticks=[], yticks=[])\n",
    "    sleði = Slider(sleðaásar, '', valmin=0, valmax=100, valinit=50)\n",
    "    sleði.on_changed(nota_dimmer)\n",
    "    return sleði\n",
    "\n",
    "f = plt.figure(figsize = (3,3))\n",
    "Pera.undirbúa(f)\n",
    "p = Pera(2.5, 3, 'red')\n",
    "sleði = búa_til_sleða(p)"
   ]
  }
 ],
 "metadata": {
  "kernelspec": {
   "display_name": "Python 3 (ipykernel)",
   "language": "python",
   "name": "python3"
  },
  "language_info": {
   "codemirror_mode": {
    "name": "ipython",
    "version": 3
   },
   "file_extension": ".py",
   "mimetype": "text/x-python",
   "name": "python",
   "nbconvert_exporter": "python",
   "pygments_lexer": "ipython3",
   "version": "3.11.0"
  }
 },
 "nbformat": 4,
 "nbformat_minor": 5
}
