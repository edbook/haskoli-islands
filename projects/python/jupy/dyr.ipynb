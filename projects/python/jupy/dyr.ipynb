{
 "cells": [
  {
   "cell_type": "code",
   "execution_count": 9,
   "id": "93e65ff1-ea5a-4ea9-95ea-d45b3668f6fb",
   "metadata": {},
   "outputs": [],
   "source": [
    "# from abc import ABC, abstractmethod, abstractproperty  # Þarf fyrir lið c\n",
    "\n",
    "# a\n",
    "class Dýr:                                       # í c-lið: class dýr(ABC)\n",
    "    tegund = None\n",
    "    fótafjöldi = None\n",
    "    segir = None\n",
    "    def __init__(self, nafn, litur):\n",
    "        self.nafn = nafn\n",
    "        self.litur = litur\n",
    "    def __str__(self):\n",
    "        s = f\"{self.nafn} er {self.litur} {self.tegund}\"\n",
    "        return s\n",
    "    # @abstractmethod                            # c-liður\n",
    "    # def hreyfast(self):                        #\n",
    "    #    pass                                    #\n",
    "    \n",
    "    @classmethod\n",
    "    def segja(self):\n",
    "        print(self.segir + \" \" + self.segir)"
   ]
  },
  {
   "cell_type": "code",
   "execution_count": 11,
   "id": "baed1bb9-339d-43cf-945b-7c75916ed4db",
   "metadata": {},
   "outputs": [
    {
     "name": "stdout",
     "output_type": "stream",
     "text": [
      "Snati er svartur hundur\n",
      "Hann hefur 4 fætur\n",
      "voff voff\n",
      "\n",
      "Andrés er brún önd\n",
      "Hún hefur 2 fætur\n",
      "bra bra\n"
     ]
    }
   ],
   "source": [
    "#b\n",
    "class Hundur(Dýr):  # Liður b\n",
    "    fótafjöldi = 4\n",
    "    tegund = \"hundur\"\n",
    "    segir = \"voff\"\n",
    "    def __init__(self, nafn, litur):\n",
    "        super().__init__(nafn, litur)\n",
    "    def gelta(self):\n",
    "        self.segja()\n",
    "    # def hreyfast(self):                        # d-liður\n",
    "    #    print('Ég get gengið og hlaupið')       #\n",
    "\n",
    "class Önd(Dýr):  # Liður b\n",
    "    fótafjöldi = 2\n",
    "    tegund = \"önd\"\n",
    "    segir = \"bra\"\n",
    "    def __init__(self, nafn, litur):\n",
    "        super().__init__(nafn, litur)\n",
    "    def kvaka(self):\n",
    "        self.segja()\n",
    "    # def hreyfast(self):                        # d-liður\n",
    "    #     print('Ég get gengið, flogið og synt') #\n",
    "  \n",
    "#d = dýr(\"Dýri\", \"grænt\")                        # c-liður\n",
    "s = Hundur(\"Snati\", \"svartur\")\n",
    "a = Önd(\"Andrés\", \"brún\")\n",
    "\n",
    "print(s)\n",
    "print(f'Hann hefur {s.fótafjöldi} fætur')\n",
    "s.gelta()\n",
    "# s.hreyfast()                                   # d-liður\n",
    "print()\n",
    "\n",
    "print(a)\n",
    "print(f'Hún hefur {a.fótafjöldi} fætur')\n",
    "a.kvaka()\n",
    "# a.hreyfast()                                   # d-liður"
   ]
  }
 ],
 "metadata": {
  "kernelspec": {
   "display_name": "Python 3 (ipykernel)",
   "language": "python",
   "name": "python3"
  },
  "language_info": {
   "codemirror_mode": {
    "name": "ipython",
    "version": 3
   },
   "file_extension": ".py",
   "mimetype": "text/x-python",
   "name": "python",
   "nbconvert_exporter": "python",
   "pygments_lexer": "ipython3",
   "version": "3.11.0"
  }
 },
 "nbformat": 4,
 "nbformat_minor": 5
}
